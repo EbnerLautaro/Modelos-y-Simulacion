{
 "cells": [
  {
   "cell_type": "code",
   "execution_count": 110,
   "metadata": {},
   "outputs": [],
   "source": [
    "import numpy as np\n",
    "import random as rd\n",
    "from math import sqrt,sin,pi,inf"
   ]
  },
  {
   "cell_type": "code",
   "execution_count": 111,
   "metadata": {},
   "outputs": [],
   "source": [
    "def g1(x):\n",
    "    return sin(x)/x\n",
    "\n",
    "def g2(x):\n",
    "    return 3/(3+(x**4))"
   ]
  },
  {
   "cell_type": "code",
   "execution_count": 112,
   "metadata": {},
   "outputs": [],
   "source": [
    "#2*Tol es lo mas grande que puede medir mi IC\n",
    "#La idea es ir achicando el IC\n",
    "def integ_ab_semi(fun,a,b,tol,z_alfa_2,max_it):\n",
    "    n=1\n",
    "    mean_n=fun(a+((b-a)*rd.random())) * (b-a)\n",
    "    dev=0\n",
    "    semiancho=0\n",
    "\n",
    "    while n<max_it and (n<=100 or semiancho>=tol):\n",
    "        #Genero un nuevo dato\n",
    "        x=fun(a+((b-a)*rd.random())) * (b-a)\n",
    "        \n",
    "        #Actualizo la media\n",
    "        mean_n1= mean_n + ((x-mean_n)/(n+1))\n",
    "        \n",
    "        #Actualizo la desviacion\n",
    "        dev= (1-(1/n))*(dev**2) + (n+1)*((mean_n1 - mean_n)**2)\n",
    "        dev=dev**0.5\n",
    "\n",
    "        semiancho= z_alfa_2*dev/sqrt(n)\n",
    "        mean_n=mean_n1\n",
    "        n+=1\n",
    "    return n,round(mean_n1,4),round(dev,4),round(2*semiancho,4)"
   ]
  },
  {
   "cell_type": "code",
   "execution_count": 113,
   "metadata": {},
   "outputs": [],
   "source": [
    "#2*Tol es lo mas grande que puede medir mi IC\n",
    "#La idea es ir achicando el IC\n",
    "def integ_0inf_semi(fun,tol,z_alfa_2,max_it):\n",
    "    n=1\n",
    "    y=rd.random()\n",
    "    mean_n=fun(-1+(1/y)) / ((y**2)) #Ver por qué no necesita signo -\n",
    "    dev=0\n",
    "    semiancho=0\n",
    "\n",
    "    while n<max_it and (n<=100 or semiancho>=tol):\n",
    "        #Genero un nuevo dato\n",
    "        y=rd.random()\n",
    "        y=fun(-1+(1/y)) / ((y**2))\n",
    "        \n",
    "        #Actualizo la media\n",
    "        mean_n1= mean_n + ((y-mean_n)/(n+1))\n",
    "        \n",
    "        #Actualizo la desviacion\n",
    "        dev= (1-(1/n))*(dev**2) + (n+1)*((mean_n1 - mean_n)**2)\n",
    "        dev=dev**0.5\n",
    "\n",
    "        semiancho= z_alfa_2*dev/sqrt(n)\n",
    "        mean_n=mean_n1\n",
    "        n+=1\n",
    "    return n,round(mean_n1,4),round(dev,4),round(2*semiancho,4)"
   ]
  },
  {
   "cell_type": "code",
   "execution_count": 118,
   "metadata": {},
   "outputs": [
    {
     "name": "stdout",
     "output_type": "stream",
     "text": [
      "N° sims | I | S | IC\n",
      "(1000, -0.435, 0.2114, 0.0262)\n",
      "(5000, -0.4323, 0.2102, 0.0117)\n",
      "(7000, -0.4341, 0.2104, 0.0099)\n",
      "(170368, -0.433, 0.2106, 0.002)\n"
     ]
    }
   ],
   "source": [
    "print(\"N° sims | I | S | IC\")\n",
    "print(integ_ab_semi(g1,pi,2*pi,0.001,1.96,1000))\n",
    "print(integ_ab_semi(g1,pi,2*pi,0.001,1.96,5000))\n",
    "print(integ_ab_semi(g1,pi,2*pi,0.001,1.96,7000))\n",
    "print(integ_ab_semi(g1,pi,2*pi,0.001,1.96,inf))\n"
   ]
  },
  {
   "cell_type": "code",
   "execution_count": 117,
   "metadata": {},
   "outputs": [
    {
     "name": "stdout",
     "output_type": "stream",
     "text": [
      "N° sims | I | S | IC\n",
      "(1000, 1.4678, 0.9696, 0.1203)\n",
      "(5000, 1.4454, 0.9831, 0.0545)\n",
      "(7000, 1.4565, 0.9751, 0.0457)\n",
      "(3659341, 1.4616, 0.976, 0.002)\n"
     ]
    }
   ],
   "source": [
    "print(\"N° sims | I | S | IC\")\n",
    "print(integ_0inf_semi(g2,0.001,1.96,1000))\n",
    "print(integ_0inf_semi(g2,0.001,1.96,5000))\n",
    "print(integ_0inf_semi(g2,0.001,1.96,7000))\n",
    "print(integ_0inf_semi(g2,0.001,1.96,inf))"
   ]
  }
 ],
 "metadata": {
  "kernelspec": {
   "display_name": "Python 3",
   "language": "python",
   "name": "python3"
  },
  "language_info": {
   "codemirror_mode": {
    "name": "ipython",
    "version": 3
   },
   "file_extension": ".py",
   "mimetype": "text/x-python",
   "name": "python",
   "nbconvert_exporter": "python",
   "pygments_lexer": "ipython3",
   "version": "3.9.2"
  },
  "orig_nbformat": 4
 },
 "nbformat": 4,
 "nbformat_minor": 2
}
