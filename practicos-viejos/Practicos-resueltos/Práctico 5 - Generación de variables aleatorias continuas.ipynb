{
 "cells": [
  {
   "cell_type": "code",
   "execution_count": 4,
   "id": "7392db4d",
   "metadata": {},
   "outputs": [],
   "source": [
    "import math\n",
    "import random\n",
    "import numpy as np\n",
    "from timeit import timeit as timeit"
   ]
  },
  {
   "cell_type": "markdown",
   "id": "41718712",
   "metadata": {},
   "source": [
    "## Ejercicio 1"
   ]
  },
  {
   "cell_type": "markdown",
   "id": "56997830",
   "metadata": {},
   "source": [
    "a) \n",
    "$$f(x)= \\left\\{ \\begin{array}{lcc}\n",
    "             \\frac{x-2}{2} &   si  & 2 \\leq x \\leq 3 \\\\\n",
    "             \\\\ \\frac{2-\\frac{x}{3}}{2} &  si & 3 \\leq x \\leq 6 \\\\\n",
    "             \\\\ 0  & cc\n",
    "             \\end{array}\n",
    "   \\right. $$"
   ]
  },
  {
   "cell_type": "code",
   "execution_count": 5,
   "id": "c4444f7d",
   "metadata": {},
   "outputs": [],
   "source": [
    "def tinv_ej1a():\n",
    "    U = random.random()\n",
    "    if U <= 1/4:\n",
    "        x = 2 + 2*math.sqrt(U)\n",
    "    else:\n",
    "        x = 6 - 6*math.sqrt((1-U)/3)\n",
    "    return x"
   ]
  },
  {
   "cell_type": "markdown",
   "id": "73afe095",
   "metadata": {},
   "source": [
    "b) \n",
    "$$f(x)= \\left\\{ \\begin{array}{lcc}\n",
    "             \\frac{6(x+3)}{35} &   si  & 0 \\leq x \\leq 1 \\\\\n",
    "             \\\\ \\frac{6x^2}{35} &  si & 1 \\leq x \\leq 2 \\\\\n",
    "             \\\\ 0  & cc\n",
    "             \\end{array}\n",
    "   \\right. $$"
   ]
  },
  {
   "cell_type": "code",
   "execution_count": 6,
   "id": "8273e548",
   "metadata": {},
   "outputs": [],
   "source": [
    "def tinv_ej1b():\n",
    "    U = random.random()\n",
    "    if U <= 21/35:\n",
    "        x = (-18 + math.sqrt(324+420*U))/6\n",
    "    else:\n",
    "        x = ((35*U-19)**(1/3))/(2**(1/3))\n",
    "    return x"
   ]
  },
  {
   "cell_type": "markdown",
   "id": "cc828571",
   "metadata": {},
   "source": [
    "c) \n",
    "$$f(x)= \\left\\{ \\begin{array}{lcc}\n",
    "             \\frac{exp(4x)}{4} &   si  & -\\infty < x \\leq 0 \\\\\n",
    "             \\\\ \\frac{1}{4} &  si & 0 < x \\leq \\frac{15}{4} \\\\\n",
    "             \\\\ 0  & cc\n",
    "             \\end{array}\n",
    "   \\right. $$"
   ]
  },
  {
   "cell_type": "code",
   "execution_count": 7,
   "id": "72e89028",
   "metadata": {},
   "outputs": [],
   "source": [
    "def tinv_ej1c():\n",
    "    U = random.random()\n",
    "    if U <= 1/16:\n",
    "        x = math.log(16*U)/4\n",
    "    else:\n",
    "        x = 4*U - (1/4)\n",
    "    return x"
   ]
  },
  {
   "cell_type": "markdown",
   "id": "b2ce52f7",
   "metadata": {},
   "source": [
    "## Ejercicio 2"
   ]
  },
  {
   "cell_type": "markdown",
   "id": "9cfa3c53",
   "metadata": {},
   "source": [
    "a) Desarrolle métodos para generar las siguientes variables aleatorias\n"
   ]
  },
  {
   "cell_type": "markdown",
   "id": "6d185dc0",
   "metadata": {},
   "source": [
    "i) Distribución Pareto\n",
    "$$f(x) = ax^{-(a+1)} \\quad1 \\leq x < \\infty, \\quad a > 0$$"
   ]
  },
  {
   "cell_type": "code",
   "execution_count": 8,
   "id": "7c802662",
   "metadata": {},
   "outputs": [],
   "source": [
    "def pareto(a):\n",
    "    U = random.random()\n",
    "    return (1/(1-U))**(1/a)"
   ]
  },
  {
   "cell_type": "markdown",
   "id": "f4aaf2a2",
   "metadata": {},
   "source": [
    "ii) Distribución Erlang\n",
    "$$f(x) = \\frac{x^{k-1}e(-x/\\mu)}{(k-1)!\\mu^k} \\quad 0 \\leq x < \\infty, \\quad \\mu > 0, \\quad k\\ entero$$"
   ]
  },
  {
   "cell_type": "code",
   "execution_count": 9,
   "id": "8c382a38",
   "metadata": {},
   "outputs": [],
   "source": [
    "def erlang(lambd, k):\n",
    "    if type(k) != int:\n",
    "        print(\"k debe ser entero\")\n",
    "    else:\n",
    "        sm = 1\n",
    "        for _ in range(k):\n",
    "            sm *= (1-random.random())\n",
    "        gamma = -(math.log(sm)/lambd)\n",
    "        return gamma"
   ]
  },
  {
   "cell_type": "markdown",
   "id": "fdd57473",
   "metadata": {},
   "source": [
    "iii) Distribución Weibull\n",
    "$$f(x) = \\frac{\\beta}{\\lambda}\\left(\\frac{x}{\\lambda}\\right)^{\\beta-1}exp(-(x/\\lambda)^{\\beta}) \\quad 0 \\leq x, \\quad \\lambda > 0, \\quad \\beta > 0$$"
   ]
  },
  {
   "cell_type": "code",
   "execution_count": 10,
   "id": "de6de176",
   "metadata": {},
   "outputs": [],
   "source": [
    "def weibull(lambd, beta):\n",
    "    U = random.random()\n",
    "    return lambd * (-math.log(1-U))**(1/beta)"
   ]
  },
  {
   "cell_type": "markdown",
   "id": "3187d993",
   "metadata": {},
   "source": [
    "b) Estime la media de cada variable con 10.000 repeticiones, usando los parámetros a = 2, µ =\n",
    "2, k = 2, λ = 1, β = 2. Busque en la web los valores de las esperanzas para cada variable\n",
    "con estos parámetros (cuidado con las parametrizaciones) y compare los valores obtenidos."
   ]
  },
  {
   "cell_type": "code",
   "execution_count": 11,
   "id": "8c632192",
   "metadata": {},
   "outputs": [
    {
     "name": "stdout",
     "output_type": "stream",
     "text": [
      "Estimación esperanza X~pareto(2) = 1.9701025348729122\n",
      "Estimación esperanza X~pareto(2) = a/a-1 = 2.0\n",
      "\n",
      "\n",
      "Estimación esperanza X~Erlang(2, 2) = 4.010390577540732\n",
      "Estimación esperanza X~Erlang(2, 2) = k/lamda = 4\n",
      "\n",
      "\n",
      "Estimación esperanza X~Weibull(2, 1) = 0.8852992436838438\n",
      "Estimación esperanza X~Weibull(2, 1) = 1/lambda * gamma(1+1/beta) = 0.886226925452758\n"
     ]
    }
   ],
   "source": [
    "def media(dist, Nsims=10000, a=None, lambd=None, k=None, beta=None):\n",
    "    sm = 0\n",
    "    if dist == 'pareto':\n",
    "        for _ in range(Nsims):\n",
    "            sm += pareto(a)\n",
    "    elif dist == 'erlang':\n",
    "        for _ in range(Nsims):\n",
    "            sm += erlang(lambd, k)\n",
    "    else:\n",
    "        for _ in range(Nsims):\n",
    "            sm += weibull(lambd, beta)\n",
    "    return sm/Nsims\n",
    "\n",
    "print(f\"Estimación esperanza X~pareto(2) = {media('pareto', a=2)}\")\n",
    "print(f\"Estimación esperanza X~pareto(2) = a/a-1 = {2/(2-1)}\")\n",
    "print(\"\\n\")\n",
    "print(f\"Estimación esperanza X~Erlang(2, 2) = {media('erlang', lambd=1/2, k=2)}\")\n",
    "print(f\"Estimación esperanza X~Erlang(2, 2) = k/lamda = 4\")\n",
    "print(\"\\n\")\n",
    "print(f\"Estimación esperanza X~Weibull(2, 1) = {media('weibull', lambd=1, beta=2)}\")\n",
    "print(f\"Estimación esperanza X~Weibull(2, 1) = 1/lambda * gamma(1+1/beta) = {1 * math.gamma(1+1/2)}\")"
   ]
  },
  {
   "cell_type": "markdown",
   "id": "b604b4f5",
   "metadata": {},
   "source": [
    "## Ejercicio 3\n"
   ]
  },
  {
   "cell_type": "markdown",
   "id": "cef39520",
   "metadata": {},
   "source": [
    "a) Suponga que es relativamente fácil generar n variables aleatorias a partir de sus distribuciones de\n",
    "probabilidad $F_{i}, \\ i = 1,...,n$ Implemente un método para generar una variable aleatoria cuya distribución de probabilidad es:\n",
    "\n",
    "$$F(X) = \\sum_{i=1}^{n}p_{i}F_{i}(x) $$\n",
    "\n",
    "donde $p_{i},\\ i = 1,...,n$ son números no negativos cuya suma es 1"
   ]
  },
  {
   "cell_type": "code",
   "execution_count": 12,
   "id": "3a91d761",
   "metadata": {},
   "outputs": [],
   "source": [
    "# X es una lista de variables aleatorias, y P es una lista de probabilidades que deben sumar 1\n",
    "def comp(X, P):\n",
    "    F = []\n",
    "    for i in range(len(P)):\n",
    "        ind = slice(0, i+1)\n",
    "        F.append(round(sum(P[ind]), 2))\n",
    "    U = random.random()\n",
    "    i = 0\n",
    "    while U >= F[i]:\n",
    "        i += 1\n",
    "    return X[i]"
   ]
  },
  {
   "cell_type": "markdown",
   "id": "1af7a5dd",
   "metadata": {},
   "source": [
    "b) Genere datos usando tres exponenciales independientes con media 3, 5 y 7 respectivamente y p =\n",
    "(0.5,0.3,0.2). Calcule la esperanza exacta de la mezcla y estime con 10.000 repeticiones. Tenga\n",
    "cuidado con la parametrización que este usando!!\n"
   ]
  },
  {
   "cell_type": "code",
   "execution_count": 13,
   "id": "e36a7186",
   "metadata": {},
   "outputs": [
    {
     "name": "stdout",
     "output_type": "stream",
     "text": [
      "E[X] estimado con 10000 simulaciones = 4.360963829473938\n",
      "E[X] real calculado = 4.4\n"
     ]
    }
   ],
   "source": [
    "def exponencial(lamda):\n",
    "    U = 1-random.random()\n",
    "    return -math.log(U)/lamda\n",
    "\n",
    "def esp_ej3(Nsims=10000):\n",
    "    sm = 0\n",
    "    P = [0.5, 0.3, 0.2]\n",
    "    for _ in range(Nsims):\n",
    "        X = [exponencial(1/3), exponencial(1/5), exponencial(1/7)]\n",
    "        sm += comp(X, P)\n",
    "    return (sm/Nsims)\n",
    "\n",
    "print(f\"E[X] estimado con 10000 simulaciones = {esp_ej3()}\")\n",
    "print(f\"E[X] real calculado = 4.4\")"
   ]
  },
  {
   "cell_type": "markdown",
   "id": "19504970",
   "metadata": {},
   "source": [
    "## Ejercicio 4"
   ]
  },
  {
   "cell_type": "markdown",
   "id": "c4c0302b",
   "metadata": {},
   "source": [
    "Desarrolle un método para generar la variable aleatoria con función de distribución\n",
    "\n",
    "$$F(x) = \\int_{0}^{\\infty} x^ye^{-y}dy, \\quad 0 \\leq x \\leq 1 $$\n",
    "\n",
    "Piense en el método de composición del ejercicio anterior. En particular, sea $F$ la función de distribución\n",
    "de $X$ y suponga que la distribución condicional de $X$ dado $Y = y$ es\n",
    "\n",
    "$$P(X\\leq x|Y =y)=x^y \\ , \\quad 0 \\leq x \\leq 1$$"
   ]
  },
  {
   "cell_type": "code",
   "execution_count": 14,
   "id": "3ac6cca3",
   "metadata": {},
   "outputs": [],
   "source": [
    "def comp_ej4():\n",
    "    y = exponencial(1)\n",
    "    U = random.random()\n",
    "    return U**(1/y)"
   ]
  },
  {
   "cell_type": "markdown",
   "id": "6bed3431",
   "metadata": {},
   "source": [
    "## Ejercicio 5"
   ]
  },
  {
   "cell_type": "markdown",
   "id": "4c506d95",
   "metadata": {},
   "source": [
    "a) Considere que es sencillo generar una variable aleatoria a partir de cualquiera de las distribuciones $F_{i}, i = 1,...,n. $ Explique cómo generar variables aleatorias a partir de las siguientes distribuciones:\n",
    "\n",
    "&emsp; i)$\\ F_{M}(x) = \\prod_{i=1}^{n}F_{i}(x)$\n",
    "\n",
    "&emsp; ii)$\\ F_m{x} = 1 - \\prod_{i=1}^{n}(1-F_{i}(x))$\n",
    "\n",
    "Sugerencia: Si $X_{i}, i = 1,...,n$, son variables aleatorias independientes, donde $X_{i}$ tiene distribución $F_{i}$, ¿cuál variable aleatoria tiene como distribución a $F$ en cada caso?\n"
   ]
  },
  {
   "cell_type": "code",
   "execution_count": 15,
   "id": "5d06dc16",
   "metadata": {},
   "outputs": [],
   "source": [
    "def aleatoria_M(X):\n",
    "    return max(X)\n",
    "\n",
    "def aleatoria_m(X):\n",
    "    return min(X)"
   ]
  },
  {
   "cell_type": "markdown",
   "id": "e50d7d74",
   "metadata": {},
   "source": [
    "b) Genere una muestra de 10 valores de las variables $M$ y $m$ con distribuciones $F_{M}$ y $F_{m}$ si $X_{i}$ son exponenciales independientes con parámetros 1, 2 y 3 respectivamente."
   ]
  },
  {
   "cell_type": "code",
   "execution_count": 16,
   "id": "b5f8f520",
   "metadata": {},
   "outputs": [
    {
     "name": "stdout",
     "output_type": "stream",
     "text": [
      "Muestra de F_M:  [3.3116353846194597, 1.0163204231336573, 0.20427962533585772, 1.1346392389402002, 0.5504972562634916, 2.772700994563211, 0.9801726427333928, 1.2377746398375473, 1.4122501079883716, 4.5561389956743525]\n",
      "Muestra de F_m:  [0.37485203097614045, 0.014399128427405304, 0.03477167894901263, 0.12144333459420462, 0.013689149032664787, 0.27645245534682367, 0.49396932182576414, 0.4201398092971201, 0.140877455842662, 0.01591508864978401]\n"
     ]
    }
   ],
   "source": [
    "x_M = []\n",
    "x_m = []\n",
    "\n",
    "for _ in range(10):\n",
    "    x_M.append(aleatoria_M([exponencial(1), exponencial(2), exponencial(3)]))\n",
    "    x_m.append(aleatoria_m([exponencial(1), exponencial(2), exponencial(3)]))\n",
    "\n",
    "print(\"Muestra de F_M: \", x_M)\n",
    "print(\"Muestra de F_m: \", x_m)"
   ]
  },
  {
   "cell_type": "markdown",
   "id": "30d51cb2",
   "metadata": {},
   "source": [
    "## Ejercicio 6"
   ]
  },
  {
   "cell_type": "markdown",
   "id": "4e851d4b",
   "metadata": {},
   "source": [
    "Utilice el método del rechazo y los resultados del ejercicio anterior para desarrollar otros dos\n",
    "métodos, además del método de la transformada inversa, para generar una variable aleatoria con distribución\n",
    "de probabilidad\n",
    "$$F(x) = x^n, \\quad 0 \\leq x \\leq 1 $$\n",
    "Analice la eficiencia de los tres métodos para generar la variable a partir de $F$."
   ]
  },
  {
   "cell_type": "code",
   "execution_count": 17,
   "id": "2aed7050",
   "metadata": {},
   "outputs": [],
   "source": [
    "def prod_ej6(n):\n",
    "    X = []\n",
    "    for _ in range(n):\n",
    "        X.append(random.random())\n",
    "    return max(X)\n",
    "\n",
    "def tinv_ej6(n):\n",
    "    U = random.random()\n",
    "    return U**(1/n)\n",
    "\n",
    "def ayr_ej6(n):\n",
    "    while True:\n",
    "        y = random.random()\n",
    "        U = random.random()\n",
    "        if U < y**(n-1):\n",
    "            return y "
   ]
  },
  {
   "cell_type": "markdown",
   "id": "5c299f56",
   "metadata": {},
   "source": [
    "Estimamos la esperanza con n = 10 usando cada uno de los métodos para ver si aproximan el valor real de E[X] = 10/9"
   ]
  },
  {
   "cell_type": "code",
   "execution_count": 18,
   "id": "d737a524",
   "metadata": {},
   "outputs": [
    {
     "name": "stdout",
     "output_type": "stream",
     "text": [
      "Estimación de E[X] utilizando una productoria:      0.9090366429581918\n",
      "Estimación de E[X] utilizando transformada inversa: 0.9087366089933253\n",
      "Estimación de E[X] utilizando aceptación y rechazo: 0.9095797406567748\n",
      "Valor real de E[X]:                                 0.9090909090909091\n"
     ]
    }
   ],
   "source": [
    "def esperanza_ej6(fun, n, Nsims=10000):\n",
    "    sm = 0\n",
    "    for _ in range(Nsims):\n",
    "        sm += fun(n)\n",
    "    return sm/Nsims\n",
    "\n",
    "print(f\"Estimación de E[X] utilizando una productoria:      {esperanza_ej6(prod_ej6, 10)}\")\n",
    "print(f\"Estimación de E[X] utilizando transformada inversa: {esperanza_ej6(tinv_ej6, 10)}\")\n",
    "print(f\"Estimación de E[X] utilizando aceptación y rechazo: {esperanza_ej6(ayr_ej6, 10)}\")\n",
    "print(f\"Valor real de E[X]:                                 {10/11}\")"
   ]
  },
  {
   "cell_type": "markdown",
   "id": "01a843af",
   "metadata": {},
   "source": [
    "Ahora analicemos la eficiencia de cada uno de los métodos"
   ]
  },
  {
   "cell_type": "code",
   "execution_count": 19,
   "id": "3416b636",
   "metadata": {},
   "outputs": [
    {
     "name": "stdout",
     "output_type": "stream",
     "text": [
      "Método de transformada inversa:     Tiempo =  0.004500100000001339\n",
      "Método de aceptación y rechazo:     Tiempo =  0.0368197999999893\n",
      "Método de productoria:              Tiempo =  0.02550619999999526\n"
     ]
    }
   ],
   "source": [
    "tiempo_tinv = timeit('tinv_ej6(10)', globals=globals(), number=10000)\n",
    "tiempo_ayr = timeit('ayr_ej6(10)', globals=globals(), number=10000)\n",
    "tiempo_prod = timeit('prod_ej6(10)', globals=globals(), number=10000)\n",
    "\n",
    "print(\"Método de transformada inversa:     Tiempo = \", tiempo_tinv)\n",
    "print(\"Método de aceptación y rechazo:     Tiempo = \", tiempo_ayr)\n",
    "print(\"Método de productoria:              Tiempo = \", tiempo_prod)"
   ]
  },
  {
   "cell_type": "markdown",
   "id": "b9862168",
   "metadata": {},
   "source": [
    "## Ejercicio 7"
   ]
  },
  {
   "cell_type": "markdown",
   "id": "f0853462",
   "metadata": {},
   "source": [
    "a) Desarrolle dos métodos para generar una variable aleatoria X con densidad de probabilidad:\n",
    "\n",
    "$$f(x)= \\left\\{ \\begin{array}{lcc}\n",
    "             \\frac{1}{x} \\quad si \\ 1 \\leq x \\leq e \\\\\n",
    "             \\ 0 \\quad en \\ otro \\ caso,  \\\\\n",
    "             \\end{array}\n",
    "   \\right. $$\n",
    "i) Aplicando Transformada inversa.\n",
    "\n",
    "ii) Aplicando el método de aceptación y rechazo con una variable uniforme."
   ]
  },
  {
   "cell_type": "code",
   "execution_count": 20,
   "id": "184b0d85",
   "metadata": {},
   "outputs": [],
   "source": [
    "def tinv_ej7():\n",
    "    U = random.random()\n",
    "    return math.exp(U)\n",
    "\n",
    "def ayr_ej7():\n",
    "    while True:\n",
    "        Y = random.uniform(1, math.exp(1))\n",
    "        U = random.random()\n",
    "        if U < (1/Y):\n",
    "            return Y"
   ]
  },
  {
   "cell_type": "markdown",
   "id": "ab587d61",
   "metadata": {},
   "source": [
    "b) Compare la eficiencia de ambos métodos realizando 10.000 simulaciones y comparando el promedio de los valores obtenidos. Compruebe que se obtiene un valor aproximado del valor esperado de $X$."
   ]
  },
  {
   "cell_type": "code",
   "execution_count": 21,
   "id": "10506b83",
   "metadata": {},
   "outputs": [
    {
     "name": "stdout",
     "output_type": "stream",
     "text": [
      "Valor estimado de E[X] utilizando transformada inversa: 1.7243662596112488\n",
      "Valor estimado de E[X] utilizando aceptación y rechazo: 1.710965628051529\n",
      "Valor real de E[X]:                                     1.718281828459045\n"
     ]
    }
   ],
   "source": [
    "def estimacion_esp(fun, Nsims=10000):\n",
    "    sm = 0\n",
    "    for _ in range(Nsims):\n",
    "        sm += fun()\n",
    "    return sm/Nsims\n",
    "\n",
    "print(f\"Valor estimado de E[X] utilizando transformada inversa: {estimacion_esp(tinv_ej7)}\")\n",
    "print(f\"Valor estimado de E[X] utilizando aceptación y rechazo: {estimacion_esp(ayr_ej7)}\")\n",
    "print(f\"Valor real de E[X]:                                     {math.exp(1)-1}\")"
   ]
  },
  {
   "cell_type": "markdown",
   "id": "46667fbb",
   "metadata": {},
   "source": [
    "c) Estime la probabilidad $P(X\\leq2)$ y compárela con el valor real."
   ]
  },
  {
   "cell_type": "code",
   "execution_count": 22,
   "id": "f1c34cf2",
   "metadata": {},
   "outputs": [
    {
     "name": "stdout",
     "output_type": "stream",
     "text": [
      "Valor estimado de P(X<=2) utilizando transformada inversa: 0.6858\n",
      "Valor estimado de P(X<=2) utilizando aceptación y rechazo: 0.6883\n",
      "Valor real de P(X<=2):                                     0.693\n"
     ]
    }
   ],
   "source": [
    "def est_dist_ej7(fun, x, Nsims=10000):\n",
    "    exitos = 0\n",
    "    for _ in range(Nsims):\n",
    "        v = fun()\n",
    "        if v <= x:\n",
    "            exitos += 1\n",
    "    return exitos/Nsims\n",
    "\n",
    "print(f\"Valor estimado de P(X<=2) utilizando transformada inversa: {est_dist_ej7(tinv_ej7, 2)}\")\n",
    "print(f\"Valor estimado de P(X<=2) utilizando aceptación y rechazo: {est_dist_ej7(ayr_ej7, 2)}\")\n",
    "print(f\"Valor real de P(X<=2):                                     {'%.3f'%math.log(2)}\")"
   ]
  },
  {
   "cell_type": "markdown",
   "id": "2d44a910",
   "metadata": {},
   "source": [
    "## Ejercicio 8"
   ]
  },
  {
   "cell_type": "markdown",
   "id": "885899e5",
   "metadata": {},
   "source": [
    "b) Desarrolle tres algoritmos que simulen la variable $X$:\n",
    "\n",
    "&nbsp;i) Usando la propiedad que X es suma de dos uniformes.\n",
    "\n",
    "&nbsp;ii) Aplicando transformada inversa.\n",
    "\n",
    "&nbsp;iii) Con el método de rechazo.\n"
   ]
  },
  {
   "cell_type": "code",
   "execution_count": 23,
   "id": "dd317db6",
   "metadata": {},
   "outputs": [],
   "source": [
    "def suma_ej8():\n",
    "    U = random.random()\n",
    "    V = random.random()\n",
    "    return U + V\n",
    "\n",
    "def tinv_ej8():\n",
    "    U = random.random()\n",
    "    if U < 1/2:\n",
    "        x = (2*U)**(1/2)\n",
    "    else:\n",
    "        x = -(-2 + (2-2*U)**(1/2))\n",
    "    return x\n",
    "\n",
    "def ayr_ej8():\n",
    "    while True: \n",
    "        Y = random.uniform(0, 2)\n",
    "        U = random.random()\n",
    "        if Y < 1 and U < Y:\n",
    "            return Y \n",
    "        elif 1 <= Y < 2 and U < (2-Y):\n",
    "            return Y"
   ]
  },
  {
   "cell_type": "markdown",
   "id": "59bcbe54",
   "metadata": {},
   "source": [
    "c) Compare la eficiencia de los tres algoritmos. Para cada caso, estimar el valor esperado promediando 10.000 valores simulados, ¿Para qué valor $x_{0}$ se cumple que $P(X > x_{0}) = 0.125$?"
   ]
  },
  {
   "cell_type": "code",
   "execution_count": 24,
   "id": "46cb2bd3",
   "metadata": {},
   "outputs": [
    {
     "name": "stdout",
     "output_type": "stream",
     "text": [
      "Valor estimado de E[X] utilizando suma de uniformes:    0.998565626629707\n",
      "Valor estimado de E[X] utilizando transformada inversa: 1.0018760897937447\n",
      "Valor estimado de E[X] utilizando aceptación y rechazo: 0.9967806518475661\n",
      "Valor real de E[X]:                                     1\n"
     ]
    }
   ],
   "source": [
    "def esp_estimada_ej8(fun, Nsims=10000):\n",
    "    sm = 0\n",
    "    for _ in range(Nsims):\n",
    "        sm += fun()\n",
    "    return sm/Nsims\n",
    "\n",
    "print(f\"Valor estimado de E[X] utilizando suma de uniformes:    {esp_estimada_ej8(suma_ej8)}\")\n",
    "print(f\"Valor estimado de E[X] utilizando transformada inversa: {esp_estimada_ej8(tinv_ej8)}\")\n",
    "print(f\"Valor estimado de E[X] utilizando aceptación y rechazo: {esp_estimada_ej8(ayr_ej8)}\")\n",
    "print(f\"Valor real de E[X]:                                     {1}\")"
   ]
  },
  {
   "cell_type": "markdown",
   "id": "3c322093",
   "metadata": {},
   "source": [
    "d) Compare la proporción de veces que el algoritmo devuelve un número mayor que $x_{0}$ con esta probabilidad.\n"
   ]
  },
  {
   "cell_type": "code",
   "execution_count": 25,
   "id": "e2d6a080",
   "metadata": {},
   "outputs": [
    {
     "name": "stdout",
     "output_type": "stream",
     "text": [
      "Valor estimado de P(X>3/2) utilizando suma de uniformes:    0.1281\n",
      "Valor estimado de P(X>3/2) utilizando transformada inversa: 0.12409999999999999\n",
      "Valor estimado de P(X>3/2) utilizando aceptación y rechazo: 0.12529999999999997\n",
      "Valor real de P(X>3/2):                                     0.125\n"
     ]
    }
   ],
   "source": [
    "def dist_acm_ej8(fun, n, Nsims=10000):\n",
    "    exitos = 0\n",
    "    for _ in range(Nsims):\n",
    "        v = fun()\n",
    "        if v <= n:\n",
    "            exitos += 1\n",
    "    return exitos/Nsims\n",
    "\n",
    "print(f\"Valor estimado de P(X>3/2) utilizando suma de uniformes:    {1 - dist_acm_ej8(suma_ej8, 3/2)}\")\n",
    "print(f\"Valor estimado de P(X>3/2) utilizando transformada inversa: {1 - dist_acm_ej8(tinv_ej8, 3/2)}\")\n",
    "print(f\"Valor estimado de P(X>3/2) utilizando aceptación y rechazo: {1 - dist_acm_ej8(ayr_ej8, 3/2)}\")\n",
    "print(f\"Valor real de P(X>3/2):                                     {0.125}\")"
   ]
  },
  {
   "cell_type": "markdown",
   "id": "26156b6d",
   "metadata": {},
   "source": [
    "## Ejercicio 9"
   ]
  },
  {
   "cell_type": "markdown",
   "id": "6b5da9f5",
   "metadata": {},
   "source": [
    "Escriba tres programas para generar un variable aleatoria normal patrón, usando\n",
    "\n",
    "a) generación de variables exponenciales según el ejemplo 5 f del libro Simulacion de S. M. Ross,\n",
    "\n",
    "b) el método polar,\n",
    "\n",
    "c) el método de razón entre uniformes.\n",
    "\n",
    "Pruebe los códigos calculando la media muestral y varianza muestral de 10.000 valores generados con los\n",
    "tres métodos."
   ]
  },
  {
   "cell_type": "code",
   "execution_count": 26,
   "id": "4c59484e",
   "metadata": {},
   "outputs": [],
   "source": [
    "def Normal_rechazo(mu, sigma):\n",
    "    while True:\n",
    "        Y1 = exponencial(1)\n",
    "        Y2 = exponencial(1)\n",
    "        if Y2 >=(Y1-1) ** 2 / 2:\n",
    "            if random.random() < 0.5:\n",
    "                return Y1 * sigma + mu\n",
    "            else:\n",
    "                return -Y1 * sigma + mu\n",
    "            \n",
    "def MetodoPolar(mu, sigma):\n",
    "    Rcuadrado = exponencial(1/2)\n",
    "    Theta= random.uniform(0, 2 * math.pi)\n",
    "    X= math.sqrt(Rcuadrado) * math.cos(Theta)\n",
    "    Y= math.sqrt(Rcuadrado) * math.sin(Theta)\n",
    "    return (X * sigma + mu, Y * sigma + mu)\n",
    "\n",
    "def Polar_Box_Muller(mu,sigma):\n",
    "    #Generar un punto aleatorio en el cırculo unitario. ´\n",
    "    while True:\n",
    "        V1, V2 = random.uniform(-1, 1), random.uniform(-1, 1)\n",
    "        if V1 ** 2 + V2 ** 2 <= 1:\n",
    "            S = V1 ** 2 + V2 ** 2\n",
    "            X = V1 * math.sqrt(-2 * math.log(S) / S)\n",
    "            Y = V2 * math.sqrt(-2 * math.log(S) / S)\n",
    "            return ( X * sigma + mu, Y * sigma + mu)\n",
    "    \n",
    "def razon_uniforme(mu, sigma):\n",
    "    NV_MAGICCONST = 4 * math.exp(-0.5) / math.sqrt(2.0)\n",
    "    while 1:\n",
    "        u1 = random.random()\n",
    "        u2 = 1.0 - random.random()\n",
    "        z = NV_MAGICCONST * (u1 - 0.5) / u2\n",
    "        zz = z * z / 4.0\n",
    "        if zz <= -math.log(u2):\n",
    "            break\n",
    "    return mu + z * sigma"
   ]
  },
  {
   "cell_type": "code",
   "execution_count": 27,
   "id": "fb8841d0",
   "metadata": {},
   "outputs": [
    {
     "name": "stdout",
     "output_type": "stream",
     "text": [
      "Método de aceptación y rechazo con exponenciales    \n",
      "        E[X] = 1.256, Var(x) = 9.040\n",
      "Método polar \n",
      "        E[X] = 1.193, Var(x) = 9.007\n",
      "Método polar box muller    \n",
      "        E[X] = 1.180, Var(x) = 9.058\n",
      "Método de razón entre uniformes \n",
      "        E[X] = 1.229, Var(x) = 9.055\n",
      "Valores reales\n",
      "        E[X] = 1.2, Var(x) = 9\n"
     ]
    }
   ],
   "source": [
    "def esp_var_normal_ej9(fun, mu, sigma, Nsims=10000):\n",
    "    esp = 0\n",
    "    for _ in range(Nsims):\n",
    "        result = fun(mu, sigma)\n",
    "        if type(result) == tuple:\n",
    "            esp += result[0]\n",
    "        else:\n",
    "            esp += result\n",
    "    esp = esp/Nsims\n",
    "    var = 0\n",
    "    for _ in range(Nsims):\n",
    "        result = fun(mu, sigma)\n",
    "        if type(result) == tuple:\n",
    "            var += (result[0] - esp)**2\n",
    "        else:\n",
    "            var += (result - esp)**2\n",
    "    return (esp, var/Nsims)\n",
    "\n",
    "print(f\"\"\"Método de aceptación y rechazo con exponenciales    \n",
    "        E[X] = {'%.3f'%esp_var_normal_ej9(Normal_rechazo, 1.2, 3)[0]}, Var(x) = {'%.3f'%esp_var_normal_ej9(Normal_rechazo, 1.2, 3)[1]}\"\"\")\n",
    "print(f\"\"\"Método polar \n",
    "        E[X] = {'%.3f'%esp_var_normal_ej9(MetodoPolar, 1.2, 3)[0]}, Var(x) = {'%.3f'%esp_var_normal_ej9(MetodoPolar, 1.2, 3)[1]}\"\"\")\n",
    "print(f\"\"\"Método polar box muller    \n",
    "        E[X] = {'%.3f'%esp_var_normal_ej9(Polar_Box_Muller, 1.2, 3)[0]}, Var(x) = {'%.3f'%esp_var_normal_ej9(Polar_Box_Muller, 1.2, 3)[1]}\"\"\")\n",
    "print(f\"\"\"Método de razón entre uniformes \n",
    "        E[X] = {'%.3f'%esp_var_normal_ej9(razon_uniforme, 1.2, 3)[0]}, Var(x) = {'%.3f'%esp_var_normal_ej9(razon_uniforme, 1.2, 3)[1]}\"\"\")\n",
    "print(f\"\"\"Valores reales\n",
    "        E[X] = 1.2, Var(x) = 9\"\"\")"
   ]
  },
  {
   "cell_type": "markdown",
   "id": "1514266f",
   "metadata": {},
   "source": [
    "## Ejercicio 10"
   ]
  },
  {
   "cell_type": "markdown",
   "id": "1fa2be8b",
   "metadata": {},
   "source": [
    "Una variable aleatoria $X$ tiene distribución de Cauchy con parámetro $λ > 0$ si su densidad es\n",
    "$$f(x) = \\frac{1}{\\lambda \\pi (1+(x/\\lambda)^{2})}, \\quad x ∈ \\mathbb R $$\n",
    "\n",
    "a) Implemente el método de razón entre uniformes para simular X con parámetro λ = 1. Para esto:\n",
    "\n",
    "1. Pruebe que el conjunto $C_f = \\{(u, v) \\ | \\  0 < u < \\sqrt{f(v/u)}\\} $ es el semicírculo derecho centrado en (0, 0) de radio $\\sqrt {1/\\pi}$\n",
    "\n",
    "2. Desarrolle un algoritmo $CAUCHY( )$ que genere pares $(U,V)$ con distribución uniforme en $C_{f}$ y devuelva $X = V/U$. Entonces $X$ tiene la distribución deseada. ¿Es necesario utilizar el valor de $\\pi$? "
   ]
  },
  {
   "cell_type": "code",
   "execution_count": 28,
   "id": "2b1ac4e9",
   "metadata": {},
   "outputs": [],
   "source": [
    "def cauchy():\n",
    "    while 1:\n",
    "        u = random.random()\n",
    "        v = random.uniform(-1, 1)\n",
    "        if u**2 + v**2 < 1:\n",
    "            return v/u"
   ]
  },
  {
   "cell_type": "markdown",
   "id": "cd34214b",
   "metadata": {},
   "source": [
    "b) Pruebe que si $X$ tiene distribución de Cauchy con parámetro 1, entonces $λX$ tiene distribución de Cauchy con parámetro $λ$.\n",
    "\n",
    "c) Utilice esta propiedad para modificar el algoritmo anterior, e implementar $CAUCHY(LAMDA)$ que simule una variable $X$ con distribución de Cauchy de parámetro $λ$."
   ]
  },
  {
   "cell_type": "code",
   "execution_count": 29,
   "id": "76bfcaa8",
   "metadata": {},
   "outputs": [],
   "source": [
    "def cauchy(lamda):\n",
    "    while 1:\n",
    "        u = random.random()\n",
    "        v = random.uniform(-1, 1)\n",
    "        if u**2 + v**2 < 1:\n",
    "            return lamda * v/u"
   ]
  },
  {
   "cell_type": "markdown",
   "id": "111c62c5",
   "metadata": {},
   "source": [
    "d) Realice 10.000 simulaciones y calcule la proporción de veces que el resultado cae en el intervalo $(−λ,λ)$, para $λ = 1, λ = 2.5 $y $λ = 0.3$. Compare con la probabilidad teórica"
   ]
  },
  {
   "cell_type": "code",
   "execution_count": 30,
   "id": "1d08b710",
   "metadata": {},
   "outputs": [
    {
     "name": "stdout",
     "output_type": "stream",
     "text": [
      "Valor estimado de P(-1 <= X <= 1) = 0.499\n",
      "Valor estimado de P(-2.5 <= X <= 2.5) = 0.494\n",
      "Valor estimado de P(-2.5 <= X <= 2.5) = 0.497\n",
      "Probabilidad de que X este en el intervalo (−λ,λ) para cualquier λ = 0.5\n"
     ]
    }
   ],
   "source": [
    "def est_distribucion_cauchy(x, lamda, Nsims=10000):\n",
    "    exitos = 0\n",
    "    for _ in range(Nsims):\n",
    "        n = cauchy(lamda)\n",
    "        if n <= x:\n",
    "            exitos += 1\n",
    "    return exitos/Nsims\n",
    "\n",
    "print(f\"Valor estimado de P(-1 <= X <= 1) = {'%.3f'%(est_distribucion_cauchy(1, 1) - est_distribucion_cauchy(-1, 1))}\")\n",
    "print(f\"Valor estimado de P(-2.5 <= X <= 2.5) = {'%.3f'%(est_distribucion_cauchy(2.5, 2.5) - est_distribucion_cauchy(-2.5, 2.5))}\")\n",
    "print(f\"Valor estimado de P(-2.5 <= X <= 2.5) = {'%.3f'%(est_distribucion_cauchy(0.3, 0.3) - est_distribucion_cauchy(-0.3, 0.3))}\")\n",
    "print(f\"Probabilidad de que X este en el intervalo (−λ,λ) para cualquier λ = {1/2}\")"
   ]
  },
  {
   "cell_type": "markdown",
   "id": "ff61cd66",
   "metadata": {},
   "source": [
    "## Ejercicio 11"
   ]
  },
  {
   "cell_type": "markdown",
   "id": "0ea48cb3",
   "metadata": {},
   "source": [
    "Sea X una variable aleatoria con distribución de Cauchy de parámetro $λ$.\n",
    "\n",
    "a) Calcule la función de distribución acumulada $F_X$.\n",
    "\n",
    "b) Simule $X$ aplicando el método de transformada inversa."
   ]
  },
  {
   "cell_type": "code",
   "execution_count": 31,
   "id": "e08ce755",
   "metadata": {},
   "outputs": [],
   "source": [
    "def tinv_ej11(lamda):\n",
    "    u = random.random()\n",
    "    return lamda * math.tan(math.pi*(u-1/2))"
   ]
  },
  {
   "cell_type": "markdown",
   "id": "4db91fc0",
   "metadata": {},
   "source": [
    "d) Realice 10000 simulaciones y calcular la proporción de veces que el resultado cae en el intervalo $(−λ,λ)$, para $λ = 1, λ = 2.5$ y $λ = 0.3$. Compare con la probabilidad teórica."
   ]
  },
  {
   "cell_type": "code",
   "execution_count": 32,
   "id": "68b26e15",
   "metadata": {},
   "outputs": [
    {
     "name": "stdout",
     "output_type": "stream",
     "text": [
      "Valor estimado de P(-1 <= X <= 1) usando transformada inversa: \n",
      "    0.495\n",
      "Valor estimado de P(-2.5 <= X <= 2.5) usando transformada inversa: \n",
      "    0.505\n",
      "Valor estimado de P(-0.3 <= X <= 0.3) usando transformada inversa: \n",
      "    0.497\n",
      "Probabilidad de que X este en el intervalo (−λ,λ) para cualquier λ > 0: 0.5\n"
     ]
    }
   ],
   "source": [
    "def dst_acum_est_ej11(fun, lamda, n, nsims=10000):\n",
    "    exitos = 0\n",
    "    for _ in range(nsims):\n",
    "        x = fun(lamda)\n",
    "        if x <= n:\n",
    "            exitos += 1\n",
    "    return exitos/nsims\n",
    "\n",
    "print(f\"\"\"Valor estimado de P(-1 <= X <= 1) usando transformada inversa: \n",
    "    {'%.3f'%(dst_acum_est_ej11(tinv_ej11, 1, 1) - dst_acum_est_ej11(tinv_ej11, 1, -1))}\"\"\")\n",
    "print(f\"\"\"Valor estimado de P(-2.5 <= X <= 2.5) usando transformada inversa: \n",
    "    {'%.3f'%(dst_acum_est_ej11(tinv_ej11, 2.5, 2.5) - dst_acum_est_ej11(tinv_ej11, 2.5, -2.5))}\"\"\")\n",
    "print(f\"\"\"Valor estimado de P(-0.3 <= X <= 0.3) usando transformada inversa: \n",
    "    {'%.3f'%(dst_acum_est_ej11(tinv_ej11, 0.3, 0.3) - dst_acum_est_ej11(tinv_ej11, 0.3, -0.3))}\"\"\")\n",
    "print(f\"Probabilidad de que X este en el intervalo (−λ,λ) para cualquier λ > 0: {1/2}\")"
   ]
  },
  {
   "cell_type": "markdown",
   "id": "9e0a86b9",
   "metadata": {},
   "source": [
    "e) Compare la eficiencia de este algoritmo con el método de razón entre uniformes."
   ]
  },
  {
   "cell_type": "code",
   "execution_count": 33,
   "id": "457541f9",
   "metadata": {},
   "outputs": [
    {
     "name": "stdout",
     "output_type": "stream",
     "text": [
      "Método de transformada inversa:     Tiempo =  0.0039653999999984535\n",
      "Método de razón entre uniformes:     Tiempo =  0.01313730000001101\n"
     ]
    }
   ],
   "source": [
    "tiempo_dist = timeit('tinv_ej11(5)', globals=globals(), number=10000)\n",
    "tiempo_razon = timeit('cauchy(5)', globals=globals(), number=10000)\n",
    "\n",
    "print(\"Método de transformada inversa:     Tiempo = \", tiempo_dist)\n",
    "print(\"Método de razón entre uniformes:     Tiempo = \", tiempo_razon)"
   ]
  },
  {
   "cell_type": "markdown",
   "id": "c6d4d62d",
   "metadata": {},
   "source": [
    "## Ejercicio 13"
   ]
  },
  {
   "cell_type": "code",
   "execution_count": 34,
   "id": "1c0f35f3",
   "metadata": {},
   "outputs": [],
   "source": [
    "def eventos_poisson(lamda, T):\n",
    "    t = exponencial(lamda)\n",
    "    eventos = []\n",
    "    while t <= T:\n",
    "        eventos.append(t)\n",
    "        t += exponencial(lamda)\n",
    "    return len(eventos), eventos"
   ]
  },
  {
   "cell_type": "markdown",
   "id": "ca5c2aa9",
   "metadata": {},
   "source": [
    "## Ejercicio 14"
   ]
  },
  {
   "cell_type": "code",
   "execution_count": 35,
   "id": "3801abb9",
   "metadata": {},
   "outputs": [],
   "source": [
    "def llegada_aficionados():\n",
    "    tiempos = eventos_poisson(5, 1)[1]\n",
    "    aficionados = []\n",
    "    for tiempo in tiempos:\n",
    "        aficionados.append(random.randint(20, 40))\n",
    "    return aficionados, tiempos"
   ]
  },
  {
   "cell_type": "markdown",
   "id": "62c31707",
   "metadata": {},
   "source": [
    "## Ejercicio 15"
   ]
  },
  {
   "cell_type": "markdown",
   "id": "92c1eea9",
   "metadata": {},
   "source": [
    "a) Escriba un programa que utilice el algoritmo del adelgazamiento para generar el numero de eventos y\n",
    "las primeras unidades de tiempo de un proceso de Poisson no homogéneo con función de intensidad"
   ]
  },
  {
   "cell_type": "code",
   "execution_count": 181,
   "id": "b8d7d344",
   "metadata": {},
   "outputs": [],
   "source": [
    "def poisson_no_homogeneo_adelgazamiento(T, lamda, lambda_t):\n",
    "    'Devuelve el número de eventos NT y los tiempos en Eventos'\n",
    "    'lamda_t(t): intensidad, lamda_t(t)<=lamda'\n",
    "    'lamda_t es una lista de 3-uplas, de la forma (a, b, fun), donde lamda_t(t) = fun(t) a <= t <= b'\n",
    "    'lamda debe ser mayor o igual a cualquier valor lamda_t(t)'\n",
    "    eventos = []\n",
    "    t = 0\n",
    "    for l in lambda_t:\n",
    "        a = l[0]\n",
    "        b = l[1]\n",
    "        lambda_func = l[2]\n",
    "        while (t <= T and a <= t <= b):\n",
    "            v = random.random()\n",
    "            if v <= lambda_func(t)/lamda:\n",
    "                eventos.append(t)\n",
    "            t += exponencial(lamda)\n",
    "    return len(eventos), eventos"
   ]
  },
  {
   "cell_type": "markdown",
   "id": "0588babd",
   "metadata": {},
   "source": [
    "i) \n",
    "$$\\lambda (t) = 3+\\frac{4}{t+1} \\ 0 \\leq t \\leq 3 $$"
   ]
  },
  {
   "cell_type": "code",
   "execution_count": 184,
   "id": "c32d55e7",
   "metadata": {},
   "outputs": [
    {
     "data": {
      "text/plain": [
       "(15,\n",
       " [0,\n",
       "  0.008003930764123743,\n",
       "  0.08610834928581182,\n",
       "  0.1435513553655012,\n",
       "  0.16239437647807822,\n",
       "  0.20988762298437352,\n",
       "  0.2715170193511841,\n",
       "  0.5218035638829999,\n",
       "  0.5454619319452907,\n",
       "  0.5861229112513481,\n",
       "  0.838753243709618,\n",
       "  1.0480181626518508,\n",
       "  1.1332651133794533,\n",
       "  2.1823194390566663,\n",
       "  2.5788808458663626])"
      ]
     },
     "execution_count": 184,
     "metadata": {},
     "output_type": "execute_result"
    }
   ],
   "source": [
    "poisson_no_homogeneo_adelgazamiento(3, 7, [(0, 3, (lambda t: 3 + 4/(t+1)))])"
   ]
  },
  {
   "cell_type": "markdown",
   "id": "ee389162",
   "metadata": {},
   "source": [
    "ii) \n",
    "$$\\lambda (t) = (t-2)^{2} -5t+17, \\ 0 \\leq t \\leq 5 $$"
   ]
  },
  {
   "cell_type": "code",
   "execution_count": 245,
   "id": "6d6704b6",
   "metadata": {},
   "outputs": [
    {
     "data": {
      "text/plain": [
       "(38,\n",
       " [0,\n",
       "  0.010705291245381394,\n",
       "  0.07874864550639091,\n",
       "  0.10438314934317076,\n",
       "  0.21270768259948838,\n",
       "  0.3251714326994578,\n",
       "  0.3863506430372342,\n",
       "  0.47166042223737004,\n",
       "  0.5151070986241466,\n",
       "  0.5346756418713854,\n",
       "  0.6105315659791107,\n",
       "  0.7105046236112639,\n",
       "  0.7278196044289511,\n",
       "  0.7350477652391492,\n",
       "  0.8059643170202403,\n",
       "  0.8905690096126782,\n",
       "  0.9820915369191748,\n",
       "  1.000858661508127,\n",
       "  1.003378584960719,\n",
       "  1.0076172813141993,\n",
       "  1.0944406504662498,\n",
       "  1.0957863429355224,\n",
       "  1.1225570249703336,\n",
       "  1.1657630919362985,\n",
       "  1.1693315674659095,\n",
       "  1.2716078690044683,\n",
       "  1.3397923395866727,\n",
       "  1.405913471687702,\n",
       "  1.4393846869559228,\n",
       "  1.7369191643411397,\n",
       "  1.8331441615545188,\n",
       "  1.8635404982001218,\n",
       "  1.9791814970418735,\n",
       "  2.16041719317392,\n",
       "  2.38086290665757,\n",
       "  2.9154218543071733,\n",
       "  3.274955764015923,\n",
       "  3.6283105547840715])"
      ]
     },
     "execution_count": 245,
     "metadata": {},
     "output_type": "execute_result"
    }
   ],
   "source": [
    "poisson_no_homogeneo_adelgazamiento(5, 21, [(0, 5, (lambda t: (t-2)**2 - 5*t +17))])"
   ]
  },
  {
   "cell_type": "markdown",
   "id": "01b87e33",
   "metadata": {},
   "source": [
    "iii)\n",
    "$$\\lambda (t) = \\left\\{ \\begin{array}{lcc}\n",
    "             \\frac{t}{2} - 1 &   si  & 2 \\leq x \\leq 3 \\\\\n",
    "             \\\\ 1- \\frac{t}{6} &  si & 3 \\leq x \\leq 6 \\\\\n",
    "             \\\\ 0  & cc\n",
    "             \\end{array}\n",
    "   \\right. $$"
   ]
  },
  {
   "cell_type": "code",
   "execution_count": 242,
   "id": "a98073a7",
   "metadata": {},
   "outputs": [
    {
     "data": {
      "text/plain": [
       "(2, [2.875001257092985, 4.343586157119508])"
      ]
     },
     "execution_count": 242,
     "metadata": {},
     "output_type": "execute_result"
    }
   ],
   "source": [
    "poisson_no_homogeneo_adelgazamiento(6, 1, [(-np.inf, 2, (lambda t: 0)),\n",
    "                                          (2, 3, (lambda t: (t/2) - 1)),\n",
    "                                          (3, 6, (lambda t: 1 - (t/6))),\n",
    "                                          (6, np.inf, (lambda t: 0))])"
   ]
  },
  {
   "cell_type": "markdown",
   "id": "f42555e2",
   "metadata": {},
   "source": [
    "b) Indique una forma de mejorar el algoritmo de adelgazamiento para estos ejemplos usando al menos 3 intervalos."
   ]
  },
  {
   "cell_type": "code",
   "execution_count": 222,
   "id": "11a5cd0c",
   "metadata": {},
   "outputs": [],
   "source": [
    "def poisson_adelgazamiento_mejorado(T, lambda_t, interv):\n",
    "    'Interv es una lista de 3-uplas (a, b, lambda) tal que para a <= t <= b se verificara si lambda_t(t) <= lambda'\n",
    "    'lambda_t es una lista de 3-uplas, de la forma (a, b, fun), donde lambda_t(t) = fun(t) a <= t <= b'\n",
    "    j = 0 #recorre subintervalos.\n",
    "    eventos = []\n",
    "    t = 0\n",
    "    for l in lambda_t:\n",
    "        a = l[0]\n",
    "        b = l[1]\n",
    "        lamda_func = l[2]\n",
    "        while (t <= T and a <= t <= b):\n",
    "            a_1 = interv[j][0]\n",
    "            b_1 = interv[j][1]\n",
    "            lamda = interv[j][2]\n",
    "            if a_1 <= t <= b_1:\n",
    "                v = random.random()\n",
    "                if v <= lamda_func(t)/lamda:\n",
    "                    eventos.append(t)\n",
    "                t += exponencial(lamda)\n",
    "            else:\n",
    "                t = b_1 + (t - b_1) * lamda / interv[j+1][2]\n",
    "                j += 1\n",
    "    return len(eventos), eventos"
   ]
  },
  {
   "cell_type": "code",
   "execution_count": 283,
   "id": "fd73f50c",
   "metadata": {},
   "outputs": [
    {
     "data": {
      "text/plain": [
       "47.88519140882582"
      ]
     },
     "execution_count": 283,
     "metadata": {},
     "output_type": "execute_result"
    }
   ],
   "source": [
    "prom = 0\n",
    "for i in range(10000):\n",
    "    prom += sum(poisson_adelgazamiento_mejorado(6, [(0, 6, (lambda x: (x-3)**2))], [(0, 1, 9), \n",
    "                                                            (1, 2, 4),\n",
    "                                                            (2, 4, 1),\n",
    "                                                            (4, 5, 4),\n",
    "                                                            (5, 6, 9)])[1])\n",
    "prom/10000"
   ]
  },
  {
   "cell_type": "code",
   "execution_count": 258,
   "id": "b8b386ff",
   "metadata": {},
   "outputs": [
    {
     "data": {
      "text/plain": [
       "18.9678"
      ]
     },
     "execution_count": 258,
     "metadata": {},
     "output_type": "execute_result"
    }
   ],
   "source": [
    "prom = 0\n",
    "for i in range(10000):\n",
    "    prom += poisson_no_homogeneo_adelgazamiento(6, 9, [(0, 6, (lambda x: (x-3)**2))])[0]\n",
    "prom/10000"
   ]
  }
 ],
 "metadata": {
  "kernelspec": {
   "display_name": "Python 3 (ipykernel)",
   "language": "python",
   "name": "python3"
  },
  "language_info": {
   "codemirror_mode": {
    "name": "ipython",
    "version": 3
   },
   "file_extension": ".py",
   "mimetype": "text/x-python",
   "name": "python",
   "nbconvert_exporter": "python",
   "pygments_lexer": "ipython3",
   "version": "3.9.13"
  }
 },
 "nbformat": 4,
 "nbformat_minor": 5
}
