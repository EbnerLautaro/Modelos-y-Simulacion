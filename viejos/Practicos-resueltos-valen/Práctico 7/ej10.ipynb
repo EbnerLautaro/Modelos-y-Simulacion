{
 "cells": [
  {
   "cell_type": "code",
   "execution_count": 78,
   "metadata": {},
   "outputs": [],
   "source": [
    "import numpy as np\n",
    "import random as rd\n",
    "from scipy.stats import norm"
   ]
  },
  {
   "cell_type": "code",
   "execution_count": 1,
   "metadata": {},
   "outputs": [],
   "source": [
    "#H0: Los datos provienen de una distribucion normal."
   ]
  },
  {
   "cell_type": "code",
   "execution_count": 79,
   "metadata": {},
   "outputs": [],
   "source": [
    "frec=np.array([91.9, 97.8, 111.4, 122.3, 105.4, 95.0, 103.8, \n",
    "               99.6, 96.6, 119.3, 104.8, 101.7],dtype=float)"
   ]
  },
  {
   "cell_type": "code",
   "execution_count": 80,
   "metadata": {},
   "outputs": [],
   "source": [
    "def var(data):\n",
    "    n=len(data)\n",
    "    media=np.mean(data)\n",
    "    v=0\n",
    "    for i in range(n):\n",
    "        v+= (media - data[i])**2\n",
    "    v/=n-1\n",
    "    return v\n"
   ]
  },
  {
   "cell_type": "code",
   "execution_count": 81,
   "metadata": {},
   "outputs": [],
   "source": [
    "#Estimamos los parametros de la normal por mv\n",
    "#mu=media muestral, sigma^2=varianza muestral\n",
    "mu=np.mean(frec)\n",
    "sigma=var(frec)**0.5"
   ]
  },
  {
   "cell_type": "code",
   "execution_count": 82,
   "metadata": {},
   "outputs": [],
   "source": [
    "#Estandarizo los datos\n",
    "data=np.array([(frec[i]-mu)/sigma for i in range(len(frec))], dtype=float)"
   ]
  },
  {
   "cell_type": "code",
   "execution_count": 83,
   "metadata": {},
   "outputs": [],
   "source": [
    "#Densidad acumulada de la normal estandar.\n",
    "def F(x):\n",
    "    return norm.cdf(x)"
   ]
  },
  {
   "cell_type": "code",
   "execution_count": 84,
   "metadata": {},
   "outputs": [],
   "source": [
    "def K_S_un(data):\n",
    "    data=np.sort(data) #Ordeno\n",
    "    n=len(data)\n",
    "    d=0\n",
    "    for j in range(n):\n",
    "        x=data[j]\n",
    "        d=max(d ,((j+1)/n)-x , x - j/n)\n",
    "    return d"
   ]
  },
  {
   "cell_type": "code",
   "execution_count": 85,
   "metadata": {},
   "outputs": [],
   "source": [
    "#Estadistico normal estandar\n",
    "def K_S_norm_std(data):\n",
    "    data=np.sort(data)\n",
    "    n=len(data)\n",
    "    d=0\n",
    "    for j in range(n):\n",
    "        x=data[j]\n",
    "        d=max(d ,((j+1)/n)-F(x) , F(x) - j/n)\n",
    "    return d"
   ]
  },
  {
   "cell_type": "code",
   "execution_count": 86,
   "metadata": {},
   "outputs": [],
   "source": [
    "def est_p_value(data,it):\n",
    "    n=len(data)\n",
    "    d_KS=K_S_norm_std(data)\n",
    "    pvalue=0\n",
    "    \n",
    "    for i in range(it):\n",
    "        u=[rd.uniform(0,1) for i in range(n)] #Genero muestra\n",
    "        d=K_S_un(u)    #Calculo el estadistico de la muestra\n",
    "        if d>=d_KS:\n",
    "            pvalue+=1\n",
    "    return pvalue/it\n",
    "\n",
    "#Notar que utilizo el teorema de que P_f(D>=d) es la misma para cualquier \n",
    "#...distribución "
   ]
  },
  {
   "cell_type": "code",
   "execution_count": 90,
   "metadata": {},
   "outputs": [
    {
     "data": {
      "text/plain": [
       "0.693"
      ]
     },
     "execution_count": 90,
     "metadata": {},
     "output_type": "execute_result"
    }
   ],
   "source": [
    "est_p_value(data,1000)"
   ]
  },
  {
   "cell_type": "code",
   "execution_count": 2,
   "metadata": {},
   "outputs": [],
   "source": [
    "#p valor alto => no rechazamos la H0"
   ]
  }
 ],
 "metadata": {
  "kernelspec": {
   "display_name": "Python 3",
   "language": "python",
   "name": "python3"
  },
  "language_info": {
   "codemirror_mode": {
    "name": "ipython",
    "version": 3
   },
   "file_extension": ".py",
   "mimetype": "text/x-python",
   "name": "python",
   "nbconvert_exporter": "python",
   "pygments_lexer": "ipython3",
   "version": "3.9.2"
  },
  "orig_nbformat": 4
 },
 "nbformat": 4,
 "nbformat_minor": 2
}
