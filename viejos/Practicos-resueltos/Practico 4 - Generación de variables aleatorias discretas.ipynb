{
 "cells": [
  {
   "cell_type": "code",
   "execution_count": 128,
   "id": "e36ea25b",
   "metadata": {},
   "outputs": [],
   "source": [
    "import random\n",
    "import math\n",
    "from timeit import timeit as timeit\n",
    "import matplotlib.pyplot as plt\n",
    "import time"
   ]
  },
  {
   "cell_type": "markdown",
   "id": "ba12c581",
   "metadata": {},
   "source": [
    "## Ejercicio 1"
   ]
  },
  {
   "cell_type": "code",
   "execution_count": 265,
   "id": "ae140831",
   "metadata": {},
   "outputs": [],
   "source": [
    "def coincidencias_cartas(n):\n",
    "    coincidencias = 0\n",
    "    for i in range(n):\n",
    "        u = random.randint(1, 100)\n",
    "        if u == (1 + 1):\n",
    "            coincidencias += 1\n",
    "    return coincidencias\n",
    "\n",
    "def esperanza(nsims):\n",
    "    p = 0\n",
    "    for i in range (nsims):\n",
    "        p += coincidencias_cartas(100)\n",
    "    return p/nsims\n",
    "\n",
    "def varianza(nsims):\n",
    "    e = esperanza(nsims)\n",
    "    result = 0\n",
    "    for i in range(nsims):\n",
    "        result += (coincidencias_cartas(100) - e)**2\n",
    "    return result/nsims\n",
    "\n",
    "def probabilidad_r_cartas(n, r, nsims, exactas=False):\n",
    "    p = 0\n",
    "    coincidencias = True\n",
    "    for i in range(nsims):\n",
    "        if not exactas:\n",
    "            for i in range(r):\n",
    "                u = random.randint(1, n)\n",
    "                coincidencias = coincidencias and u == (i+1)\n",
    "            if coincidencias:\n",
    "                p += 1\n",
    "        else:\n",
    "            for i in range(r):\n",
    "                u = random.randint(1, n)\n",
    "                coincidencias = coincidencias and u == (i+1)\n",
    "            for i in range(r, n):\n",
    "                u = random.randint(1, n)\n",
    "                coincidencias = coincidencias and not (u == (i+1))\n",
    "            if coincidencias:\n",
    "                p += 1\n",
    "    return p/nsims"
   ]
  },
  {
   "cell_type": "code",
   "execution_count": 266,
   "id": "afacf505",
   "metadata": {},
   "outputs": [
    {
     "name": "stdout",
     "output_type": "stream",
     "text": [
      "N° simulaciones: 100\n",
      "Esperanza: 1.2\n",
      "Varianza: 0.7499999999999999\n",
      "Probabilidad de que las primeras 10 cartas sean coincidencia: 0.0\n",
      "Probabilidad de que hayan exactamente 10 coincidencias en las primeras diez cartas: 0.0\n",
      "\n",
      "N° simulaciones: 1000\n",
      "Esperanza: 0.993\n",
      "Varianza: 0.9035590000000022\n",
      "Probabilidad de que las primeras 10 cartas sean coincidencia: 0.0\n",
      "Probabilidad de que hayan exactamente 10 coincidencias en las primeras diez cartas: 0.0\n",
      "\n",
      "N° simulaciones: 10000\n",
      "Esperanza: 0.998\n",
      "Varianza: 1.0087435499999617\n",
      "Probabilidad de que las primeras 10 cartas sean coincidencia: 0.0\n",
      "Probabilidad de que hayan exactamente 10 coincidencias en las primeras diez cartas: 0.0\n",
      "\n",
      "N° simulaciones: 100000\n",
      "Esperanza: 0.99327\n",
      "Varianza: 0.9889400741005359\n",
      "Probabilidad de que las primeras 10 cartas sean coincidencia: 0.0\n",
      "Probabilidad de que hayan exactamente 10 coincidencias en las primeras diez cartas: 0.0\n",
      "\n"
     ]
    }
   ],
   "source": [
    "nsims = [100, 1000, 10000, 100000]\n",
    "for i in range(len(nsims)):\n",
    "    e = esperanza(nsims[i])\n",
    "    v = varianza(nsims[i])\n",
    "    r_coincidencias = probabilidad_r_cartas(100, 10, nsims[i], False)\n",
    "    r_coincidencias_exactas = probabilidad_r_cartas(100, 10, nsims[i], True)\n",
    "    print(f\"N° simulaciones: {nsims[i]}\")\n",
    "    print(f\"Esperanza: {e}\")\n",
    "    print(f\"Varianza: {v}\")\n",
    "    print(f\"Probabilidad de que las primeras 10 cartas sean coincidencia: {r_coincidencias}\")\n",
    "    print(f\"Probabilidad de que hayan exactamente 10 coincidencias en las primeras diez cartas: {r_coincidencias_exactas}\\n\")"
   ]
  },
  {
   "cell_type": "markdown",
   "id": "728b3d86",
   "metadata": {},
   "source": [
    "## Ejercicio 2"
   ]
  },
  {
   "cell_type": "markdown",
   "id": "164d3d98",
   "metadata": {},
   "source": [
    "$$\\sum_{k = 1}^{N} e^{\\frac{k}N}$$  donde N = 1000"
   ]
  },
  {
   "cell_type": "code",
   "execution_count": 267,
   "id": "e4f0fef3",
   "metadata": {},
   "outputs": [],
   "source": [
    "def aprox_sum(funciong, k, N, nsims):\n",
    "    sum_s = 0\n",
    "    for i in range(nsims):\n",
    "        u = random.randint(k, N)\n",
    "        sum_s += funciong(u)\n",
    "    return N * (sum_s/nsims)\n",
    "\n",
    "def sum_real(funciong, k, N):\n",
    "    sum_s = 0 \n",
    "    for i in range(N):\n",
    "        sum_s += funciong(i+1)\n",
    "    return sum_s"
   ]
  },
  {
   "cell_type": "code",
   "execution_count": 268,
   "id": "e1a2da7d",
   "metadata": {},
   "outputs": [
    {
     "name": "stdout",
     "output_type": "stream",
     "text": [
      "Estimación para N = 10000 con 100 números aleatorios: 17126.599468111457\n",
      "Estimación para N = 100 con 100 números aleatorios: 100.49560425302586\n",
      "Valor real para N = 100: 100.50669600897406\n"
     ]
    }
   ],
   "source": [
    "funciong = (lambda x: math.exp(x/10000))\n",
    "estimado = aprox_sum(funciong, 1, 10000, 100)\n",
    "print(f\"Estimación para N = 10000 con 100 números aleatorios: {estimado}\")\n",
    "resultado = sum_real(funciong, 1, 100)\n",
    "estimado = aprox_sum(funciong, 1, 100, 100)\n",
    "print(f\"Estimación para N = 100 con 100 números aleatorios: {estimado}\")\n",
    "print(f\"Valor real para N = 100: {resultado}\")"
   ]
  },
  {
   "cell_type": "markdown",
   "id": "87cbb2b8",
   "metadata": {},
   "source": [
    "## Ejercicio 3"
   ]
  },
  {
   "cell_type": "code",
   "execution_count": 271,
   "id": "38dc7911",
   "metadata": {},
   "outputs": [],
   "source": [
    "def lanzamientos_dados():\n",
    "    posibles_result = set((2, 3, 4, 5, 6, 7, 8, 9, 10, 11, 12))\n",
    "    suma = set()\n",
    "    n = 0\n",
    "    while suma != posibles_result:\n",
    "        u = random.randint(1, 6)\n",
    "        v = random.randint(1, 6)\n",
    "        suma.add(u+v)\n",
    "        n += 1\n",
    "    return n\n",
    "\n",
    "def esperanza(nsims):\n",
    "    sum_e = 0\n",
    "    for i in range(nsims):\n",
    "        sum_e += lanzamientos_dados()\n",
    "    return sum_e/nsims\n",
    "\n",
    "def desviacion(nsims):\n",
    "    mean = esperanza(nsims)\n",
    "    result = 0\n",
    "    for i in range(nsims):\n",
    "        result += (lanzamientos_dados() - mean)**2 \n",
    "    return math.sqrt(result/nsims)\n",
    "\n",
    "def probabilidad_menor(n, nsims):\n",
    "    p = 0\n",
    "    for i in range(nsims):\n",
    "        result = lanzamientos_dados()\n",
    "        if result <= n:\n",
    "            p += 1\n",
    "    return p/nsims"
   ]
  },
  {
   "cell_type": "code",
   "execution_count": 272,
   "id": "2c6e27bb",
   "metadata": {},
   "outputs": [
    {
     "name": "stdout",
     "output_type": "stream",
     "text": [
      "N° simulaciones: 100\n",
      "Esperanza: 61.77\n",
      "Desviación estándar: 35.61411517923757\n",
      "Probabilidad de que N sea por lo menos 15: 1.0\n",
      "Probabilidad de que N sea a lo sumo 9: 0.0\n",
      "\n",
      "N° simulaciones: 1000\n",
      "Esperanza: 59.709\n",
      "Desviación estándar: 37.07782780854348\n",
      "Probabilidad de que N sea por lo menos 15: 0.996\n",
      "Probabilidad de que N sea a lo sumo 9: 0.0\n",
      "\n",
      "N° simulaciones: 10000\n",
      "Esperanza: 61.7544\n",
      "Desviación estándar: 36.49591798544058\n",
      "Probabilidad de que N sea por lo menos 15: 0.9966\n",
      "Probabilidad de que N sea a lo sumo 9: 0.0\n",
      "\n",
      "N° simulaciones: 100000\n",
      "Esperanza: 60.95968\n",
      "Desviación estándar: 36.082256060728646\n",
      "Probabilidad de que N sea por lo menos 15: 0.99705\n",
      "Probabilidad de que N sea a lo sumo 9: 0.0\n",
      "\n"
     ]
    }
   ],
   "source": [
    "nsims = [100, 1000, 10000, 100000]\n",
    "for i in range(len(nsims)):\n",
    "    e = esperanza(nsims[i])\n",
    "    d = desviacion(nsims[i])\n",
    "    mayor_igual_15 = 1 - probabilidad_menor(15, nsims[i])\n",
    "    menor_igual_9 = probabilidad_menor(9, nsims[i])\n",
    "    print(f\"N° simulaciones: {nsims[i]}\")\n",
    "    print(f\"Esperanza: {e}\")\n",
    "    print(f\"Desviación estándar: {d}\")\n",
    "    print(f\"Probabilidad de que N sea por lo menos 15: {mayor_igual_15}\")\n",
    "    print(f\"Probabilidad de que N sea a lo sumo 9: {menor_igual_9}\\n\")"
   ]
  },
  {
   "cell_type": "markdown",
   "id": "7f0201e3",
   "metadata": {},
   "source": [
    "## Ejercicio 4"
   ]
  },
  {
   "cell_type": "code",
   "execution_count": 273,
   "id": "bb5f1c2c",
   "metadata": {},
   "outputs": [],
   "source": [
    "def a(c):\n",
    "    probs_x = [0.11, 0.14, 0.09, 0.08, 0.12, 0.10, 0.09, 0.07, 0.11, 0.09]\n",
    "    prob_y = 1/10\n",
    "    y = random.randint(1, 10)\n",
    "    u = random.random()\n",
    "    if u < probs_x[y-1]/(c*prob_y):\n",
    "        return y \n",
    "    else:\n",
    "        return a(c)\n",
    "\n",
    "def b():\n",
    "    f = [0.11, 0.25, 0.34, 0.42, 0.54, 0.64, 0.73, 0.80, 0.91, 1]\n",
    "    u = random.random()\n",
    "    i = 0\n",
    "    while u >= f[i]:\n",
    "        i += 1\n",
    "    return i + 1\n",
    "\n",
    "def b_mejorado():\n",
    "    f = [0.14, 0.26, 0.37, 0.48, 0.58, 0.67, 0.76, 0.85, 0.93, 1]\n",
    "    x = [2, 5, 1, 9, 6, 7, 3, 10,  4, 8]\n",
    "    u = random.random()\n",
    "    i = 0\n",
    "    while u >= f[i]:\n",
    "        i += 1\n",
    "    return i + 1\n",
    "\n",
    "def c(k):\n",
    "    A = []\n",
    "    probs_x = [0.11, 0.14, 0.09, 0.08, 0.12, 0.10, 0.09, 0.07, 0.11, 0.09]\n",
    "    for i in range(len(probs_x)):\n",
    "        for j in range(int(probs_x[i]*k)):\n",
    "            A.append(i+1)\n",
    "    m = int(random.random() * k)\n",
    "    return (A[m], m)\n",
    "\n",
    "def c_mejorado(k):\n",
    "    probs_x = [0.11, 0.14, 0.09, 0.08, 0.12, 0.10, 0.09, 0.07, 0.11, 0.09]\n",
    "    p_decimal = 0\n",
    "    seg_decimal = 0\n",
    "    A1 = []\n",
    "    A2 = []\n",
    "    for i in range(len(probs_x)):\n",
    "        p_decimal = abs(int((int(probs_x[i]) - probs_x[i])*10))\n",
    "        seg_decimal = abs(int((int(probs_x[i]) - probs_x[i])*100)) - (p_decimal*10)\n",
    "        for j in range(p_decimal):\n",
    "            A1.append(i+1)\n",
    "        for k in range(seg_decimal):\n",
    "            A2.append(i+1)\n",
    "    U = random.random()\n",
    "    if U < len(A1)/10:\n",
    "        i = int(random.random() * len(A1))\n",
    "        return A1[i]\n",
    "    else:\n",
    "        i = int(random.random() * len(A2))\n",
    "        return A2[i]"
   ]
  },
  {
   "cell_type": "code",
   "execution_count": 274,
   "id": "5cb0da46",
   "metadata": {},
   "outputs": [
    {
     "name": "stdout",
     "output_type": "stream",
     "text": [
      "Método de aceptación y rechazo:              Tiempo =  0.0322691000001214\n",
      "Método de transformada inversa:              Tiempo =  0.009547799999381823\n",
      "Método de transformada inversa ordenada:     Tiempo =  0.0003612000000430271\n",
      "Método de urna:                              Tiempo =  0.13825369999995019\n",
      "Método de urna mejorado:                     Tiempo =  0.1603597000002992\n"
     ]
    }
   ],
   "source": [
    "##c = 1.40, se calcula usando 10*p(x=i)<= c, ya que p(y=i) = 10 para i = {1, 2 .., 10}\n",
    "tiempo_ayr = timeit('a(1.40)', globals=globals(), number=10000)\n",
    "tiempo_tinv = timeit('b()', globals=globals(), number=10000)\n",
    "tiempo_tinv_ord = timeit('b_mejorado', globals=globals(), number=10000)\n",
    "tiempo_urna = timeit('c(100)', globals=globals(), number=10000)\n",
    "tiempo_urna_m = timeit('c_mejorado(100)', globals=globals(), number=10000)\n",
    "\n",
    "print(\"Método de aceptación y rechazo:              Tiempo = \", tiempo_ayr)\n",
    "print(\"Método de transformada inversa:              Tiempo = \", tiempo_tinv)\n",
    "print(\"Método de transformada inversa ordenada:     Tiempo = \", tiempo_tinv_ord)\n",
    "print(\"Método de urna:                              Tiempo = \", tiempo_urna)\n",
    "print(\"Método de urna mejorado:                     Tiempo = \", tiempo_urna_m)"
   ]
  },
  {
   "cell_type": "markdown",
   "id": "87de77ed",
   "metadata": {},
   "source": [
    "## Ejercicio 5"
   ]
  },
  {
   "cell_type": "markdown",
   "id": "d257bd45",
   "metadata": {},
   "source": [
    "i) Usando transformación inversa"
   ]
  },
  {
   "cell_type": "code",
   "execution_count": 18,
   "id": "d8862da4",
   "metadata": {},
   "outputs": [],
   "source": [
    "def ej5_i(n, p):\n",
    "    c = p / (1 - p)\n",
    "    prob = (1 - p) ** n\n",
    "    F = prob; i=0\n",
    "    U = random.random()\n",
    "    while U >= F:\n",
    "        prob *= c * (n-i) / (i+1)\n",
    "        F += prob\n",
    "        i += 1\n",
    "    return i\n",
    "\n",
    "def ej5_i_mejorado(n, p):\n",
    "    if p > 1/2:\n",
    "        i = ej5_i(n, 1 - p)\n",
    "        return n - i\n",
    "    else:\n",
    "        return ej5_i(n, p)"
   ]
  },
  {
   "cell_type": "markdown",
   "id": "50976240",
   "metadata": {},
   "source": [
    "ii) Simulando n ensayos con probabilidad de éxito p y contando el número de éxitos"
   ]
  },
  {
   "cell_type": "code",
   "execution_count": 19,
   "id": "f39d2f2a",
   "metadata": {},
   "outputs": [],
   "source": [
    "def ej5_ii(n, p):\n",
    "    exitos = 0\n",
    "    for i in range(n):\n",
    "        u = random.random()\n",
    "        if u <= p:\n",
    "            exitos += 1\n",
    "    return exitos"
   ]
  },
  {
   "cell_type": "markdown",
   "id": "dd4e8c58",
   "metadata": {},
   "source": [
    "a) Compare la eficiencia de ambos algoritmos para n = 10 y p = 0.3, evaluando el tiempo necesario para\n",
    "realizar 10000 simulaciones"
   ]
  },
  {
   "cell_type": "code",
   "execution_count": 20,
   "id": "0ae6b03a",
   "metadata": {},
   "outputs": [
    {
     "name": "stdout",
     "output_type": "stream",
     "text": [
      "Método de transformada inversa:              Tiempo =  0.022134500031825155\n",
      "Método de transformada inversa ordenada:     Tiempo =  0.025950899987947196\n",
      "Método de simular n ensayos:                 Tiempo =  0.026079000032041222\n"
     ]
    }
   ],
   "source": [
    "tiempo_tinv = timeit('ej5_i(10, 0.3)', globals=globals(), number=10000)\n",
    "tiempo_tinv_ord = timeit('ej5_i_mejorado(10, 0.3)', globals=globals(), number=10000)\n",
    "tiempo_sim = timeit('ej5_ii(10, 0.3)', globals=globals(), number=10000)\n",
    "\n",
    "print(\"Método de transformada inversa:              Tiempo = \", tiempo_tinv)\n",
    "print(\"Método de transformada inversa ordenada:     Tiempo = \", tiempo_tinv_ord)\n",
    "print(\"Método de simular n ensayos:                 Tiempo = \", tiempo_sim)"
   ]
  },
  {
   "cell_type": "markdown",
   "id": "4e030f94",
   "metadata": {},
   "source": [
    "b) Estime el valor con mayor ocurrencia y la proporción de veces que se obtuvieron los valores 0 y 10\n",
    "respectivamente."
   ]
  },
  {
   "cell_type": "code",
   "execution_count": 126,
   "id": "5393b968",
   "metadata": {},
   "outputs": [
    {
     "name": "stdout",
     "output_type": "stream",
     "text": [
      "Valor con mayor ocurrencia\n",
      "Transformada inversa: 3\n",
      "Transformada inversa mejorada: 3\n",
      "Transformada inversa: 3\n",
      "Proporción de ocurrencia de cada valor\n",
      "Transformada inversa: [0.0285, 0.1209, 0.2302, 0.2609, 0.2007, 0.1109, 0.0386, 0.0076, 0.0015, 0.0002, 0.0]\n",
      "Transformada inversa mejorada: [0.0285, 0.1209, 0.2302, 0.2609, 0.2007, 0.1109, 0.0386, 0.0076, 0.0015, 0.0002, 0.0]\n",
      "Transformada inversa: [0.0285, 0.1209, 0.2302, 0.2609, 0.2007, 0.1109, 0.0386, 0.0076, 0.0015, 0.0002, 0.0]\n"
     ]
    }
   ],
   "source": [
    "ocurr_tinv = [0 for i in range(0, 11)]\n",
    "ocurr_tinv_m = [0 for i in range(0, 11)]\n",
    "ocurr_sim = [0 for i in range(0, 11)]\n",
    "\n",
    "for i in range(10000):\n",
    "    n = ej5_i(10, 0.3)\n",
    "    ocurr_tinv[n] += 1\n",
    "    m = ej5_i_mejorado(10, 0.3)\n",
    "    ocurr_tinv_m[n] +=1\n",
    "    v = ej5_ii(10, 0.3)\n",
    "    ocurr_sim[n] += 1\n",
    "    \n",
    "print(\"Valor con mayor ocurrencia\")\n",
    "print(f\"Transformada inversa: {ocurr_tinv.index(max(ocurr_tinv))}\")\n",
    "print(f\"Transformada inversa mejorada: {ocurr_tinv_m.index(max(ocurr_tinv_m))}\")\n",
    "print(f\"Transformada inversa: {ocurr_sim.index(max(ocurr_sim))}\")\n",
    "print(\"Proporción de ocurrencia de cada valor\")\n",
    "print(f\"Transformada inversa: {[x/10000 for x in ocurr_tinv]}\")\n",
    "print(f\"Transformada inversa mejorada: {[x/10000 for x in ocurr_tinv_m]}\")\n",
    "print(f\"Transformada inversa: {[x/10000 for x in ocurr_sim]}\")"
   ]
  },
  {
   "cell_type": "markdown",
   "id": "729c344a",
   "metadata": {},
   "source": [
    "c) Compare estos valores con las probabilidades teóricas de la binomial. Si están alejados, revise el código.\n"
   ]
  },
  {
   "cell_type": "code",
   "execution_count": 90,
   "id": "806aadd5",
   "metadata": {},
   "outputs": [],
   "source": [
    "def prob_binomial(n, p, x):\n",
    "    c = math.factorial(n)/(math.factorial(x)*math.factorial(n-x))\n",
    "    pp = p ** x\n",
    "    np = (1-p)**(n-x)\n",
    "    return (c * pp * np)"
   ]
  },
  {
   "cell_type": "code",
   "execution_count": 96,
   "id": "0431edad",
   "metadata": {},
   "outputs": [
    {
     "name": "stdout",
     "output_type": "stream",
     "text": [
      "[0.03, 0.12, 0.23, 0.27, 0.2, 0.1, 0.04, 0.01, 0.0, 0.0]\n"
     ]
    }
   ],
   "source": [
    "probs = []\n",
    "for x in range(10):\n",
    "    probs.append(float(\"{:.2f}\".format(prob_binomial(10, 0.3, x))))\n",
    "print(probs)"
   ]
  },
  {
   "cell_type": "markdown",
   "id": "b383fa23",
   "metadata": {},
   "source": [
    "## Ejercicio 6"
   ]
  },
  {
   "cell_type": "code",
   "execution_count": 264,
   "id": "c2af7d3a",
   "metadata": {},
   "outputs": [],
   "source": [
    "## Para minimizar las búsquedas ordenamos las probabilidades de menor a mayor y vamos sumando para generar las F\n",
    "def ej6_i():\n",
    "    probs_x = [0.35, 0.55, 0.75, 0.90, 1]\n",
    "    x = [3, 1, 4, 0, 2]\n",
    "    u = random.random()\n",
    "    i = 0\n",
    "    while u >= probs_x[i]:\n",
    "        i += 1\n",
    "    return x[i] \n",
    "\n",
    "def ej6_ii(c):\n",
    "    probs_x = [0.15, 0.20, 0.10, 0.35, 0.20]\n",
    "    y = ej5_ii(4, 0.45) # Este metodo genera una binomial usando la transformada inversa\n",
    "    prob_y = prob_binomial(4, 0.45, y)\n",
    "    u = random.random()\n",
    "    if u < probs_x[y]/(c*prob_y):\n",
    "        return y\n",
    "    else:\n",
    "        return ej6_ii(c)"
   ]
  },
  {
   "cell_type": "code",
   "execution_count": 297,
   "id": "60603315",
   "metadata": {},
   "outputs": [
    {
     "name": "stdout",
     "output_type": "stream",
     "text": [
      "Método de transformada inversa:              Tiempo =  0.008252300000094692\n",
      "Método de aceptación y rechazo:              Tiempo =  0.07947189999958937\n"
     ]
    }
   ],
   "source": [
    "## Tiempo para la aceptación y rechazo, c = 1.40, se calcula usando p(x=i)/p(y=i)<=\n",
    "## Código para determinar el menor c a usar en la aceptación y rechazo:\n",
    "def c_ayr():\n",
    "    probs_x = [0.15, 0.20, 0.10, 0.35, 0.20]\n",
    "    results = []\n",
    "    for i in range(5):\n",
    "        results.append(probs_x[i]/prob_binomial(4, 0.45, i))\n",
    "    return max(results)\n",
    "    \n",
    "tiempo_tinv = timeit('ej6_i()', globals=globals(), number=10000)\n",
    "tiempo_ayr = timeit('ej6_ii(c_ayr())', globals=globals(), number=10000)\n",
    "\n",
    "print(\"Método de transformada inversa:              Tiempo = \", tiempo_tinv)\n",
    "print(\"Método de aceptación y rechazo:              Tiempo = \", tiempo_ayr)"
   ]
  },
  {
   "cell_type": "markdown",
   "id": "4c7693ff",
   "metadata": {},
   "source": [
    "## Ejercicio 7"
   ]
  },
  {
   "cell_type": "code",
   "execution_count": 303,
   "id": "c119c83c",
   "metadata": {},
   "outputs": [],
   "source": [
    "def poisson(l):\n",
    "    i = 0\n",
    "    p = math.exp(-l)\n",
    "    F = p\n",
    "    u = random.random()\n",
    "    while u >= F:\n",
    "        i += 1\n",
    "        p *= l/i\n",
    "        F += p\n",
    "    return i\n",
    "\n",
    "def poisson_mejorada(l):\n",
    "    p = math.exp(-l)\n",
    "    F = p\n",
    "    for j in range(1, int(l)+1):\n",
    "        p *= l/j\n",
    "        F += p\n",
    "    u = random.random()\n",
    "    if u >= F:\n",
    "        j = int(l) + 1\n",
    "        while u >= F:\n",
    "            p *= l/j\n",
    "            F += p\n",
    "            j += 1\n",
    "        return j - 1\n",
    "    else:\n",
    "        j =  int(l)\n",
    "        while u < F:\n",
    "            F -= p\n",
    "            p *= j/l\n",
    "            j -= 1\n",
    "        return j + 1"
   ]
  },
  {
   "cell_type": "code",
   "execution_count": 340,
   "id": "0d25401c",
   "metadata": {},
   "outputs": [
    {
     "name": "stdout",
     "output_type": "stream",
     "text": [
      "Método de transformada inversa:              Tiempo =  0.4072290999993129\n",
      "Método de transformada inversa mejorada:     Tiempo =  0.9111181000007491\n"
     ]
    }
   ],
   "source": [
    "def dist_acum_poisson(fun, l, x, Nsims=1000):\n",
    "    exito = 0\n",
    "    for _ in range(Nsims):\n",
    "        n = fun(l)\n",
    "        if n <= x:\n",
    "            exito += 1\n",
    "    return exito/Nsims\n",
    "\n",
    "tiempo_tinv = timeit('1-dist_acum_poisson(poisson, 0.2, 2)', globals=globals(), number=1000)\n",
    "tiempo_tinv_m = timeit('1-dist_acum_poisson(poisson_mejorada, 0.2, 2)', globals=globals(), number=1000)\n",
    "\n",
    "print(\"Método de transformada inversa:              Tiempo = \", tiempo_tinv)\n",
    "print(\"Método de transformada inversa mejorada:     Tiempo = \", tiempo_tinv_m)"
   ]
  },
  {
   "cell_type": "markdown",
   "id": "9980573f",
   "metadata": {},
   "source": [
    "## Ejercicio 8"
   ]
  },
  {
   "cell_type": "code",
   "execution_count": 4,
   "id": "91a7ea4e",
   "metadata": {},
   "outputs": [],
   "source": [
    "def prob_ej8(lam, i, k):\n",
    "    n = (lam**i/math.factorial(i))\n",
    "    d = 0\n",
    "    for j in range(k+1):\n",
    "        d += (lam**j/math.factorial(j))\n",
    "    return n/d\n",
    "\n",
    "def tinv_ej8(lam, k):\n",
    "    i = 0\n",
    "    p = prob_ej8(lam, i, k)\n",
    "    F = p\n",
    "    u = random.random()\n",
    "    while u >= F:\n",
    "        i += 1\n",
    "        p = prob_ej8(lam, i, k)\n",
    "        F += p\n",
    "    return i\n",
    "\n",
    "def ayr_ej8(lam, k, c):\n",
    "    y = random.randint(0, k)\n",
    "    prob_y = 1/(k+1)\n",
    "    u = random.random()\n",
    "    prob_x = prob_ej8(lam, y, k)\n",
    "    if u < prob_x/(c*prob_y):\n",
    "        return y\n",
    "    else:\n",
    "        return ayr_ej8(lam, k, c)"
   ]
  },
  {
   "cell_type": "markdown",
   "id": "fca08dbf",
   "metadata": {},
   "source": [
    "b) Estime P(X > 2) con k = 10 y λ = 0.7, y 1000 repeticiones. Compare con el valor exacto"
   ]
  },
  {
   "cell_type": "code",
   "execution_count": 56,
   "id": "8fea3849",
   "metadata": {},
   "outputs": [
    {
     "name": "stdout",
     "output_type": "stream",
     "text": [
      "P(X>2) con método de transformada inversa: 0.03749999999999998\n",
      "P(X>2) con método de aceptación y rechazo: 0.03539999999999999\n",
      "P(X>2) con calculo real: 0.03414158387347288\n"
     ]
    }
   ],
   "source": [
    "def est_dist_acum_ej8(fun, lam, k, x, Nsims=1000, c=None):\n",
    "    acc = 0\n",
    "    for _ in range(Nsims):\n",
    "        if fun == 'tinv_ej8':\n",
    "            n = tinv_ej8(lam, k)\n",
    "            if n <= x:\n",
    "                acc += 1\n",
    "        else:\n",
    "            n = ayr_ej8(lam, k, c)\n",
    "            if n <= x:\n",
    "                acc += 1\n",
    "    return acc/Nsims\n",
    "\n",
    "## Código para determinar el menor c a usar en la aceptación y rechazo:\n",
    "def c_ayr_ej8(lam, k):\n",
    "    prob_y = 1/(k+1)\n",
    "    results = []\n",
    "    for i in range(k+1):\n",
    "        results.append(prob_ej8(lam, i, k)/prob_y)\n",
    "    return max(results)\n",
    "\n",
    "def dist_acum_ej8(lam, k, x):\n",
    "    acc = 0\n",
    "    for i in range(0, x+1):\n",
    "        acc += prob_ej8(lam, i, k)\n",
    "    return acc\n",
    "\n",
    "print(f\"P(X>2) con método de transformada inversa: {1 - est_dist_acum_ej8('tinv_ej8', 0.7, 10, 2, 10000)}\")\n",
    "print(f\"P(X>2) con método de aceptación y rechazo: {1 - est_dist_acum_ej8('ayr_ej8', 0.7, 10, 2, 10000, c=c_ayr_ej8(0.7, 10))}\")\n",
    "print(f\"P(X>2) con calculo real: {1 - dist_acum_ej8(0.7, 10, 2)}\")"
   ]
  },
  {
   "cell_type": "markdown",
   "id": "07981682",
   "metadata": {},
   "source": [
    "c) Generalice el problema escribiendo un pseudocodigo para el metodo de rechazo para cualquier variable aleatoria truncada usando como soporte a la variable original (con “cualquier variable aleatoria\n",
    "truncada” nos referimos a una variable como la vista en el inciso (a) pero ahora truncada en cualquier\n",
    "parte i = a,...,b)."
   ]
  },
  {
   "cell_type": "code",
   "execution_count": 97,
   "id": "8fac8122",
   "metadata": {},
   "outputs": [],
   "source": [
    "## La función de probabilidad que toma como parámetro sólo debe depender de la variable x \n",
    "def ayr_gen_ej8(fun, i, k, c):\n",
    "    y = tinv_ej8(0.7, k)\n",
    "    prob_y = prob_ej8(0.7, y, k)\n",
    "    if i <= y <= k:\n",
    "        prob_x = fun(y)\n",
    "    else:\n",
    "        prob_x = 0\n",
    "    u = random.random()\n",
    "    if u < prob_x/(c*prob_y):\n",
    "        return y\n",
    "    else:\n",
    "        return ayr_gen_ej8(fun, i, k, c)"
   ]
  },
  {
   "cell_type": "markdown",
   "id": "210b73b7",
   "metadata": {},
   "source": [
    "## Ejercicio 9"
   ]
  },
  {
   "cell_type": "markdown",
   "id": "8c138bd8",
   "metadata": {},
   "source": [
    "a) Usando transformada inversa y aplicando la fórmula recursiva para P(X = i)"
   ]
  },
  {
   "cell_type": "code",
   "execution_count": 13,
   "id": "0591f661",
   "metadata": {},
   "outputs": [],
   "source": [
    "def tinv_ej9(p):\n",
    "    U = 1 - random.random()\n",
    "    return int(math.log(1-U)/math.log(1-p))+1\n",
    "\n",
    "def tinv_recursiva_ej9(p):\n",
    "    q = (1-p)\n",
    "    i = 1\n",
    "    F = p\n",
    "    u = random.random()\n",
    "    while u >= F:\n",
    "        p *= q\n",
    "        F += p\n",
    "        i += 1\n",
    "    return i"
   ]
  },
  {
   "cell_type": "markdown",
   "id": "2cc5d320",
   "metadata": {},
   "source": [
    "b) Simulando ensayos con probabilidad de éxito p hasta obtener un éxito."
   ]
  },
  {
   "cell_type": "code",
   "execution_count": 14,
   "id": "b6cb0a74",
   "metadata": {},
   "outputs": [],
   "source": [
    "def ensayos_ej9(p):\n",
    "    i = 1\n",
    "    u = random.random()\n",
    "    while u > p:\n",
    "        u = random.random()\n",
    "        i +=1\n",
    "    return i"
   ]
  },
  {
   "cell_type": "markdown",
   "id": "8504e87f",
   "metadata": {},
   "source": [
    "Compare la eficiencia de estos algoritmos para p = 0.8 y para p = 0.2.\n",
    "Para cada caso, realize 10000 simulaciones y calcular el promedio de los valores obtenidos. Comparar estos\n",
    "valores con el valor esperado de la distribución correspondiente. Si están alejados, revisar el código."
   ]
  },
  {
   "cell_type": "code",
   "execution_count": 15,
   "id": "3b89e537",
   "metadata": {},
   "outputs": [
    {
     "name": "stdout",
     "output_type": "stream",
     "text": [
      "p = 0.8, esperanza real = 1.25\n",
      "Método de transformada inversa:               Tiempo = 0.012244399986229837, Esperanza = 1.2453\n",
      "Método de transformada inversa recursiva:     Tiempo = 0.008059199986746535, Esperanza = 1.2459\n",
      "Método de simulación de ensayos:              Tiempo = 0.004325399990193546, Esperanza = 1.2479\n",
      "p = 0.2, esperanza real = 5.0\n",
      "Método de transformada inversa:               Tiempo = 0.010098900005687028, Esperanza = 5.1086\n",
      "Método de transformada inversa recursiva:     Tiempo = 0.009178100008284673, Esperanza = 5.0308\n",
      "Método de simulación de ensayos:              Tiempo = 0.010284099989803508, Esperanza = 4.9906\n"
     ]
    }
   ],
   "source": [
    "def esperanza_geom(fun, p, nsims=10000):\n",
    "    sm = 0\n",
    "    for _ in range(nsims):\n",
    "        sm += fun(p)\n",
    "    return sm/nsims\n",
    "\n",
    "tiempo_tinv = timeit('esperanza_geom(tinv_ej9, 0.8)', globals=globals(), number=1)\n",
    "tiempo_tinv_r = timeit('esperanza_geom(tinv_recursiva_ej9, 0.8)', globals=globals(), number=1)\n",
    "tiempo_ensayos = timeit('esperanza_geom(ensayos_ej9, 0.8)', globals=globals(), number=1)\n",
    "\n",
    "print(f\"p = 0.8, esperanza real = {1/0.8}\")\n",
    "print(f\"Método de transformada inversa:               Tiempo = {tiempo_tinv}, Esperanza = {esperanza_geom(tinv_ej9, 0.8)}\")\n",
    "print(f\"Método de transformada inversa recursiva:     Tiempo = {tiempo_tinv_r}, Esperanza = {esperanza_geom(tinv_recursiva_ej9, 0.8)}\")\n",
    "print(f\"Método de simulación de ensayos:              Tiempo = {tiempo_ensayos}, Esperanza = {esperanza_geom(ensayos_ej9, 0.8)}\")\n",
    "\n",
    "tiempo_tinv = timeit('esperanza_geom(tinv_ej9, 0.2)', globals=globals(), number=1)\n",
    "tiempo_tinv_r = timeit('esperanza_geom(tinv_recursiva_ej9, 0.2)', globals=globals(), number=1)\n",
    "tiempo_ensayos = timeit('esperanza_geom(ensayos_ej9, 0.2)', globals=globals(), number=1)\n",
    "\n",
    "print(f\"p = 0.2, esperanza real = {1/0.2}\")\n",
    "print(f\"Método de transformada inversa:               Tiempo = {tiempo_tinv}, Esperanza = {esperanza_geom(tinv_ej9, 0.2)}\")\n",
    "print(f\"Método de transformada inversa recursiva:     Tiempo = {tiempo_tinv_r}, Esperanza = {esperanza_geom(tinv_recursiva_ej9, 0.2)}\")\n",
    "print(f\"Método de simulación de ensayos:              Tiempo = {tiempo_ensayos}, Esperanza = {esperanza_geom(ensayos_ej9, 0.2)}\")"
   ]
  },
  {
   "cell_type": "markdown",
   "id": "47c769de",
   "metadata": {},
   "source": [
    "## Ejercicio 10"
   ]
  },
  {
   "cell_type": "markdown",
   "id": "d1cf48e3",
   "metadata": {},
   "source": [
    "Desarrolle un método para generar una variable aleatoria X cuya distribución de probabilidad está\n",
    "dada por:\n",
    "\n",
    "$$P(X = j) = (\\frac{1}{2})^{j+1} + \\frac{(\\frac{1}2)2^{j-1}}{3^j}$$"
   ]
  },
  {
   "cell_type": "code",
   "execution_count": 129,
   "id": "b7efd275",
   "metadata": {},
   "outputs": [],
   "source": [
    "def funcion_ej10(x):\n",
    "    c = 1/4\n",
    "    m = (1/2)**(x-1)+(2/3)**x\n",
    "    return c*m\n",
    "\n",
    "def tinv_ej10():\n",
    "    p = funcion_ej10(1)\n",
    "    F = p\n",
    "    i = 1\n",
    "    u = random.random()\n",
    "    while u >= F:\n",
    "        i += 1\n",
    "        p = funcion_ej10(i)\n",
    "        F += p\n",
    "    return i"
   ]
  },
  {
   "cell_type": "markdown",
   "id": "dd215075",
   "metadata": {},
   "source": [
    "(b) Estime E(X) con 1000 repeticiones y compare con la esperanza exacta."
   ]
  },
  {
   "cell_type": "code",
   "execution_count": 131,
   "id": "4df3a4f0",
   "metadata": {},
   "outputs": [
    {
     "name": "stdout",
     "output_type": "stream",
     "text": [
      "E[X] estimada = 2.446\n"
     ]
    }
   ],
   "source": [
    "def esp_ej10(Nsims=1000):\n",
    "    sm = 0\n",
    "    for _ in range(Nsims):\n",
    "        sm += tinv_ej10()\n",
    "    return sm/Nsims\n",
    "\n",
    "print(f\"E[X] estimada = {esp_ej10()}\")"
   ]
  },
  {
   "cell_type": "markdown",
   "id": "55111a66",
   "metadata": {},
   "source": [
    "## Ejercicio 11"
   ]
  },
  {
   "cell_type": "code",
   "execution_count": 167,
   "id": "9384c0e4",
   "metadata": {},
   "outputs": [],
   "source": [
    "def queDevuelve(p1, p2):\n",
    "    x = int(math.log(1-random.random())/math.log(1-p1))+1\n",
    "    y = int(math.log(1-random.random())/math.log(1-p2))+1\n",
    "    return min(x, y)\n",
    "\n",
    "def geomMin(p1, p2):\n",
    "    prod = (1-p1)*(1-p2)\n",
    "    p = 1 - prod\n",
    "    u = random.random()\n",
    "    return int(math.log(1-u)/math.log(1-p))+1"
   ]
  }
 ],
 "metadata": {
  "kernelspec": {
   "display_name": "Python 3 (ipykernel)",
   "language": "python",
   "name": "python3"
  },
  "language_info": {
   "codemirror_mode": {
    "name": "ipython",
    "version": 3
   },
   "file_extension": ".py",
   "mimetype": "text/x-python",
   "name": "python",
   "nbconvert_exporter": "python",
   "pygments_lexer": "ipython3",
   "version": "3.9.13"
  }
 },
 "nbformat": 4,
 "nbformat_minor": 5
}
