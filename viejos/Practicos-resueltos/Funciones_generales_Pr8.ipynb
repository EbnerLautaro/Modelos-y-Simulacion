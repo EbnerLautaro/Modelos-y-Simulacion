{
 "cells": [
  {
   "cell_type": "code",
   "execution_count": 82,
   "id": "5f838d53",
   "metadata": {},
   "outputs": [],
   "source": [
    "import math\n",
    "import numpy as np\n",
    "from scipy.stats import chi2, poisson"
   ]
  },
  {
   "cell_type": "markdown",
   "id": "58d2c636",
   "metadata": {},
   "source": [
    "## Ejercicio 1"
   ]
  },
  {
   "cell_type": "code",
   "execution_count": 108,
   "id": "ec61beac",
   "metadata": {},
   "outputs": [
    {
     "name": "stdout",
     "output_type": "stream",
     "text": [
      "El valor del t-estadistico es: 3.6797874491024185\n",
      "El p-valor usando chi2 es: 0.7199162006694668\n",
      "El p-valor con la simulacion es: 0.743\n"
     ]
    }
   ],
   "source": [
    "muestra1 = [2, 1, 1, 8, 0, 5, 10, 4, 2, 2, 3, 3, 4, 6, 3, 3, 2, 4, 5, 6]\n",
    "N = [0 for i in range(11)]\n",
    "for i in muestra:\n",
    "    N[i] += 1 \n",
    "for i in range(7, len(N)):\n",
    "    N[6] += N[i]\n",
    "N = N[0:7]\n",
    "    \n",
    "def estadistico_t(size, frec, funcion_prob):\n",
    "    T = 0\n",
    "    for i in range(0, len(frec)):\n",
    "        T += (frec[i] - size*funcion_prob(i))**2 / (size*funcion_prob(i))\n",
    "    return T\n",
    "\n",
    "def funcion_probabilidad(x):\n",
    "    if x >= 0 and x < 6:\n",
    "        return poisson.pmf(x, 3)\n",
    "    else:\n",
    "        return (1-poisson.cdf(5, 3))\n",
    "\n",
    "def p_valor_chi2(t0, df):\n",
    "    return (1 - chi2.cdf(t0, df))\n",
    "\n",
    "def pvalor_simulado(size, t0, f_prob, Nsims=1000):\n",
    "    pvalor = 0\n",
    "    for _ in range(Nsims):\n",
    "        muestra = np.random.poisson(lam=3, size=size)\n",
    "        N = [0 for i in range(max(muestra) + 1)]\n",
    "        for i in muestra:\n",
    "            N[i] += 1 \n",
    "        t = estadistico_t(size, N, funcion_probabilidad)\n",
    "        if t > t0:\n",
    "            pvalor += 1\n",
    "    return pvalor/Nsims\n",
    "\n",
    "t0 = estadistico_t(len(muestra1), N, funcion_probabilidad)\n",
    "pvalor1 = p_valor_chi2(t0, 6)\n",
    "pvalor2 = pvalor_simulado(len(muestra1), t0, funcion_probabilidad)\n",
    "\n",
    "print(\"El valor del t-estadistico es:\", t0)\n",
    "print(\"El p-valor usando chi2 es:\", pvalor1)\n",
    "print(\"El p-valor con la simulacion es:\", pvalor2)"
   ]
  },
  {
   "cell_type": "markdown",
   "id": "c6097207",
   "metadata": {},
   "source": [
    "## Funciones generales"
   ]
  },
  {
   "cell_type": "code",
   "execution_count": 100,
   "id": "fb98aa1c",
   "metadata": {},
   "outputs": [],
   "source": [
    "def estadistico_t(size, frec, funcion_prob):\n",
    "    T = 0\n",
    "    for i in range(0, len(frec)):\n",
    "        T += (frec[i] - size*funcion_prob(i))**2 / (size*funcion_prob(i))\n",
    "    return T\n",
    "\n",
    "def p_valor_chi2(t0, df):\n",
    "    return (1 - chi2.cdf(t0, df))\n",
    "\n",
    "def estadistico_d(muestra, f):\n",
    "    muestra.sort()\n",
    "    m = 0\n",
    "    for i in range(1, len(muestra)+1):\n",
    "        m = max(m, (i)/len(muestra) - f(muestra[i-1]), f(muestra[i-1]) - (i-1)/len(muestra))\n",
    "    return m\n",
    "\n",
    "#Para discretas, la muestra generada debe ser la indicada en la H0\n",
    "def pvalor_simulado(size, t0, Nsims=1000):\n",
    "    pvalor = 0\n",
    "    for _ in range(Nsims):\n",
    "        muestra = np.random.poisson(lam=3, size=size)\n",
    "        N = [0 for i in range(max(muestra) + 1)]\n",
    "        for i in muestra:\n",
    "            N[i] += 1 \n",
    "        t = estadistico_t(muestra, N, funcion_probabilidad)\n",
    "        if t > t0:\n",
    "            pvalor += 1\n",
    "    return pvalor/Nsims\n",
    "\n",
    "#Para parametros conocidos, en caso de que el parametro sea desconocido se debe generar la muestra con la distribucion\n",
    "#indicada en H0 y se debe calcular el estimador del parametro para cada muestra\n",
    "def kolmogorov(d_KS, n, Nsims=10000): \n",
    "    pvalor = 0\n",
    "    for _ in range(Nsims):\n",
    "        uniformes = np.random.uniform(0,1,n)\n",
    "        d_j= estadistico_d(uniformes, (lambda x: x))\n",
    "        if d_j > d_KS:\n",
    "            pvalor += 1\n",
    "    return pvalor/Nsims"
   ]
  },
  {
   "cell_type": "code",
   "execution_count": 109,
   "id": "a6ea14fb",
   "metadata": {},
   "outputs": [
    {
     "data": {
      "text/plain": [
       "3"
      ]
     },
     "execution_count": 109,
     "metadata": {},
     "output_type": "execute_result"
    }
   ],
   "source": [
    "lista = [1, 2, 4]\n",
    "sum(lista[j] for j in range(0, 2))"
   ]
  },
  {
   "cell_type": "code",
   "execution_count": null,
   "id": "91bf7937",
   "metadata": {},
   "outputs": [],
   "source": []
  }
 ],
 "metadata": {
  "kernelspec": {
   "display_name": "Python 3 (ipykernel)",
   "language": "python",
   "name": "python3"
  },
  "language_info": {
   "codemirror_mode": {
    "name": "ipython",
    "version": 3
   },
   "file_extension": ".py",
   "mimetype": "text/x-python",
   "name": "python",
   "nbconvert_exporter": "python",
   "pygments_lexer": "ipython3",
   "version": "3.9.13"
  }
 },
 "nbformat": 4,
 "nbformat_minor": 5
}
