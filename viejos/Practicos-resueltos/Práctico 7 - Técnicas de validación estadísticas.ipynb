{
 "cells": [
  {
   "cell_type": "code",
   "execution_count": 6,
   "id": "18ea6a3a",
   "metadata": {},
   "outputs": [],
   "source": [
    "import numpy as np\n",
    "import random\n",
    "import math\n",
    "from scipy.stats import chi2,  norm"
   ]
  },
  {
   "cell_type": "markdown",
   "id": "9d9bfec0",
   "metadata": {},
   "source": [
    "## Ejercicio 1"
   ]
  },
  {
   "cell_type": "code",
   "execution_count": 16,
   "id": "0418b3cc",
   "metadata": {},
   "outputs": [
    {
     "name": "stdout",
     "output_type": "stream",
     "text": [
      "Valor estimado de p-valor: 0.668\n",
      "Valor de p-valor con chi^2: 0.64996\n"
     ]
    }
   ],
   "source": [
    "def sim_mendel(Nsims=1000):\n",
    "    pvalor = 0\n",
    "    for _ in range(Nsims):\n",
    "        N1 = np.random.binomial(564, 1/4)\n",
    "        N2 = np.random.binomial(564-N1, (1/2)/(1-1/4))\n",
    "        N3 = 564 - N2 - N1\n",
    "        T = (N1 - 564*1/4)**2 / (564*1/4)\n",
    "        T += (N2 - 564*1/2)**2 / (564*1/2)\n",
    "        T += (N3 - 564*1/4)**2 / (564*1/4)\n",
    "        if T > 0.8617:\n",
    "            pvalor += 1\n",
    "    return pvalor/Nsims\n",
    "    \n",
    "print(f\"Valor estimado de p-valor: {sim_mendel()}\")\n",
    "print(f\"Valor de p-valor con chi^2: {0.64996}\")"
   ]
  },
  {
   "cell_type": "markdown",
   "id": "1a01d08c",
   "metadata": {},
   "source": [
    "## Ejercicio 2"
   ]
  },
  {
   "cell_type": "code",
   "execution_count": 17,
   "id": "c513a8d6",
   "metadata": {},
   "outputs": [
    {
     "name": "stdout",
     "output_type": "stream",
     "text": [
      "Valor estimado de p-valor: 0.814\n",
      "Valor de p-valor con chi^2: 0.82372\n"
     ]
    }
   ],
   "source": [
    "def sim_dados(Nsims=1000):\n",
    "    pvalor = 0\n",
    "    for _ in range(Nsims):\n",
    "        muestra = np.random.randint(1, 7, 1000)\n",
    "        N = [0 for i in range(7)]\n",
    "        for i in muestra:\n",
    "            N[i] += 1\n",
    "        T = 0\n",
    "        for i in range(1, 7):\n",
    "            T += (N[i] - 1000*1/6)**2 / (1000*1/6)\n",
    "        if T > 2.18:\n",
    "            pvalor += 1\n",
    "    return pvalor/Nsims\n",
    "        \n",
    "print(f\"Valor estimado de p-valor: {sim_dados()}\")\n",
    "print(f\"Valor de p-valor con chi^2: {0.82372}\")"
   ]
  },
  {
   "cell_type": "markdown",
   "id": "18a7ef07",
   "metadata": {},
   "source": [
    "## Ejercicio 3"
   ]
  },
  {
   "cell_type": "code",
   "execution_count": 8,
   "id": "0dbffe0a",
   "metadata": {},
   "outputs": [
    {
     "name": "stdout",
     "output_type": "stream",
     "text": [
      "Valor del estadístico D: 0.24\n"
     ]
    }
   ],
   "source": [
    "def estadistico_d(muestra, f):\n",
    "    muestra.sort()\n",
    "    m = 0\n",
    "    for i in range(1, len(muestra)+1):\n",
    "        x = muestra[i-1]\n",
    "        n = len(muestra)\n",
    "        m = max(m, (i)/n - f(x), f(x) - (i-1)/n)\n",
    "    return m\n",
    "\n",
    "d = estadistico_d([0.06, 0.12, 0.18, 0.27, 0.33, 0.36, 0.72, 0.74, 0.77, 0.83], (lambda x: x))\n",
    "\n",
    "print(\"Valor del estadístico D:\", d)"
   ]
  },
  {
   "cell_type": "code",
   "execution_count": 9,
   "id": "f69109a2",
   "metadata": {},
   "outputs": [
    {
     "name": "stdout",
     "output_type": "stream",
     "text": [
      "Valor estimado del p-valor: 0.533\n"
     ]
    }
   ],
   "source": [
    "def pvalor_simulado(d_KS, n, Nsims=10000):\n",
    "    pvalor = 0\n",
    "    for _ in range(Nsims):\n",
    "        uniformes = np.random.uniform(0,1,n)\n",
    "        uniformes.sort()\n",
    "        d_j= estadistico_d(uniformes, (lambda x: x))\n",
    "        if d_j > d_KS:\n",
    "            pvalor += 1\n",
    "    return pvalor/Nsims\n",
    "\n",
    "print(\"Valor estimado del p-valor:\", pvalor_simulado(d, 10))"
   ]
  },
  {
   "cell_type": "markdown",
   "id": "5396f0c0",
   "metadata": {},
   "source": [
    "## Ejercicio 4"
   ]
  },
  {
   "cell_type": "code",
   "execution_count": 34,
   "id": "e6ec08a5",
   "metadata": {},
   "outputs": [
    {
     "name": "stdout",
     "output_type": "stream",
     "text": [
      "Valor del estadístico D: 0.3922544552361856\n",
      "Valor estimado del p-valor: 0.021\n"
     ]
    }
   ],
   "source": [
    "d = estadistico_d([86.0, 133.0, 75.0, 22.0, 11.0, 144.0, 78.0, 122.0, 8.0, 146.0, 33.0, 41.0, 99.0], \n",
    "                (lambda x: 1 - math.exp(-x/50)))\n",
    "\n",
    "print(\"Valor del estadístico D:\", d)\n",
    "print(\"Valor estimado del p-valor:\", pvalor_simulado(d, 13))"
   ]
  },
  {
   "cell_type": "markdown",
   "id": "e640f0b1",
   "metadata": {},
   "source": [
    "## Ejercicio 5"
   ]
  },
  {
   "cell_type": "code",
   "execution_count": 21,
   "id": "9eca3275",
   "metadata": {},
   "outputs": [
    {
     "name": "stdout",
     "output_type": "stream",
     "text": [
      "Media muestral: 4.944444444444445\n",
      "Estimador de p: 0.6180555555555556\n",
      "Frecuencia de N0 = 0\n",
      "Frecuencia de N1 = 1\n",
      "Frecuencia de N2 = 2\n",
      "Frecuencia de N3 = 4\n",
      "Frecuencia de N4 = 1\n",
      "Frecuencia de N5 = 1\n",
      "Frecuencia de N6 = 2\n",
      "Frecuencia de N7 = 5\n",
      "Frecuencia de N8 = 2\n"
     ]
    }
   ],
   "source": [
    "M = [6, 7, 3, 4, 7, 3, 7, 2, 6, 3, 7, 8, 2, 1, 3, 5, 8, 7]\n",
    "media_muestral = sum(M)/len(M)\n",
    "estimador_p = media_muestral/8\n",
    "\n",
    "print(\"Media muestral:\", media_muestral)\n",
    "print(\"Estimador de p:\", estimador_p)\n",
    "\n",
    "N = [0 for i in range(max(M)+1)]\n",
    "for i in M:\n",
    "    N[i] += 1\n",
    "for i in range(len(N)):\n",
    "    print(f\"Frecuencia de N{i} = {N[i]}\")"
   ]
  },
  {
   "cell_type": "code",
   "execution_count": 22,
   "id": "26abe466",
   "metadata": {},
   "outputs": [
    {
     "name": "stdout",
     "output_type": "stream",
     "text": [
      "T estadístico ejercicio 5: 31.499330934155324\n",
      "p-valor con chi^2: 5.0279943204278865e-05\n"
     ]
    }
   ],
   "source": [
    "def prob_binomial(n, p, x):\n",
    "    c = math.factorial(n)/(math.factorial(x)*math.factorial(n-x))\n",
    "    pp = p ** x\n",
    "    np = (1-p)**(n-x)\n",
    "    return (c * pp * np)\n",
    "    \n",
    "def T_estadistico_bin(N, n, p):\n",
    "    T = 0\n",
    "    for i in range(len(N)):\n",
    "        den = sum(N)*prob_binomial(n, p, i)\n",
    "        T += (N[i] - den)**2 / den\n",
    "    return T\n",
    "\n",
    "t0 = T_estadistico_bin(N, 8, estimador_p)\n",
    "       \n",
    "print(\"T estadístico ejercicio 5:\", t0)\n",
    "print(\"p-valor con chi^2:\", 1 - chi2.cdf(t0, 7))"
   ]
  },
  {
   "cell_type": "code",
   "execution_count": 23,
   "id": "7f08a248",
   "metadata": {},
   "outputs": [
    {
     "name": "stdout",
     "output_type": "stream",
     "text": [
      "Valor estimado del p-valor simulando frecuencias: 0.009\n"
     ]
    }
   ],
   "source": [
    "def sim_bin(Nsims=1000):\n",
    "    pvalor = 0\n",
    "    for _ in range(Nsims):\n",
    "        muestra = np.random.binomial(n=8, p=estimador_p, size=18)\n",
    "        N = [0 for i in range(9)]\n",
    "        m_muestral = sum(muestra)/len(muestra)\n",
    "        p_estimado = m_muestral/8\n",
    "        for i in muestra:\n",
    "            N[i] += 1\n",
    "        T_est = T_estadistico_bin(N, 8, p_estimado)\n",
    "        if T_est > t0:\n",
    "            pvalor += 1\n",
    "    return pvalor/Nsims\n",
    "\n",
    "print(\"Valor estimado del p-valor simulando frecuencias:\", sim_bin())"
   ]
  },
  {
   "cell_type": "markdown",
   "id": "2689d934",
   "metadata": {},
   "source": [
    "## Ejercicio 6"
   ]
  },
  {
   "cell_type": "code",
   "execution_count": 24,
   "id": "9b0ac68b",
   "metadata": {},
   "outputs": [
    {
     "name": "stdout",
     "output_type": "stream",
     "text": [
      "Valor del estadístico T: 9.810370888711903\n",
      "Valor de p-valor usando chi^2: 0.36605389988682624\n"
     ]
    }
   ],
   "source": [
    "def t_ej6(N, P):\n",
    "    T = 0\n",
    "    for i in range(1, len(N)):\n",
    "        T += (N[i] - sum(N)*P[i]) ** 2 / (sum(N)*P[i])\n",
    "    return T\n",
    "\n",
    "N = [0, 188, 138, 87, 65, 48, 32, 30, 34, 13, 2]\n",
    "P = [0, 0.31, 0.22, 0.12, 0.10, 0.08, 0.06, 0.04, 0.04, 0.02, 0.01]\n",
    "t0 = t_ej6(N, P)\n",
    "\n",
    "print(\"Valor del estadístico T:\", t0)\n",
    "print(\"Valor de p-valor usando chi^2:\", 1 - chi2.cdf(t0, 9))"
   ]
  },
  {
   "cell_type": "code",
   "execution_count": 25,
   "id": "623ac4b2",
   "metadata": {},
   "outputs": [
    {
     "name": "stdout",
     "output_type": "stream",
     "text": [
      "Valor de p-valor estimado generando las frecuencias: 0.372\n"
     ]
    }
   ],
   "source": [
    "def generar_tiro():\n",
    "    F = [0.0, 0.31, 0.53, 0.65, 0.75, 0.83, 0.89, 0.93, 0.97, 0.99, 1]\n",
    "    U = random.random()\n",
    "    i = 0\n",
    "    while U > F[i]:\n",
    "        i += 1\n",
    "    return i\n",
    "\n",
    "def sim_rueda(P, t0, Nsims=1000):\n",
    "    pvalor = 0\n",
    "    for _ in range(Nsims):\n",
    "        muestra = []\n",
    "        frec = [0 for i in range(11)]\n",
    "        for i in range(637):\n",
    "            x = generar_tiro()\n",
    "            muestra.append(x)\n",
    "            frec[x] += 1\n",
    "        T_est = 0\n",
    "        for i in range(1, len(N)):\n",
    "            T_est += (frec[i] - len(muestra)*P[i])**2 / (len(muestra)*P[i])\n",
    "        if T_est > t0:\n",
    "            pvalor += 1\n",
    "    return pvalor/Nsims\n",
    "    \n",
    "print(\"Valor de p-valor estimado generando las frecuencias:\", sim_rueda(P, t0))        "
   ]
  },
  {
   "cell_type": "markdown",
   "id": "2db9897b",
   "metadata": {},
   "source": [
    "## Ejercicio 7"
   ]
  },
  {
   "cell_type": "code",
   "execution_count": 31,
   "id": "dd397471",
   "metadata": {},
   "outputs": [
    {
     "name": "stdout",
     "output_type": "stream",
     "text": [
      "H0: La muestra tiene distribución esponencial con media 1\n",
      "No rechazamos H0 ya que: 0.4758 > 0.05\n"
     ]
    }
   ],
   "source": [
    "def sim_ej7():\n",
    "    print(\"H0: La muestra tiene distribución esponencial con media 1\")\n",
    "    muestra = np.random.exponential(scale=1, size=30)\n",
    "    d = estadistico_d(muestra, (lambda x: 1 - math.exp(-x)))\n",
    "    pvalor = pvalor_simulado(d, 30)\n",
    "    if pvalor > 0.05:\n",
    "        print(f\"No rechazamos H0 ya que: {pvalor} > 0.05\")\n",
    "    else:\n",
    "        print(f\"Rechazamos H0 ya que: {pvalor} < 0.05\")\n",
    "        \n",
    "sim_ej7()"
   ]
  },
  {
   "cell_type": "markdown",
   "id": "9157e0b3",
   "metadata": {},
   "source": [
    "## Ejercicio 8"
   ]
  },
  {
   "cell_type": "code",
   "execution_count": 16,
   "id": "f1120cf7",
   "metadata": {},
   "outputs": [
    {
     "name": "stdout",
     "output_type": "stream",
     "text": [
      "n = 10 (0.26552644016308957, 0.4028)\n",
      "n = 20 (0.2337478637679043, 0.1884)\n",
      "n = 100 (0.12495125778557822, 0.0814)\n",
      "n = 1000 (0.09188062636346134, 0.0)\n"
     ]
    }
   ],
   "source": [
    "def normal_acum(x):\n",
    "    if x >= 0:\n",
    "        Fi = math.erf(x/math.sqrt(2.))/2.+0.5\n",
    "    else:\n",
    "        Fi = 0.5-math.erf(-x/math.sqrt(2.))/2.\n",
    "    return Fi\n",
    "\n",
    "def rt(df): # df grados de libertad\n",
    "    x = random.gauss(0.0, 1.0)\n",
    "    y = 2.0*random.gammavariate(0.5*df, 2.0)\n",
    "    return x / (math.sqrt(y/df))\n",
    "\n",
    "def normal_tstudents(n):\n",
    "    muestra = []\n",
    "    for _ in range(n):\n",
    "        muestra.append(rt(11))\n",
    "    d = estadistico_d(muestra, normal_acum)\n",
    "    pvalor = pvalor_simulado(d, n)\n",
    "    return d, pvalor\n",
    "\n",
    "print(\"n = 10\", normal_tstudents(10))\n",
    "print(\"n = 20\", normal_tstudents(20))\n",
    "print(\"n = 100\", normal_tstudents(100))\n",
    "print(\"n = 1000\", normal_tstudents(1000))"
   ]
  },
  {
   "cell_type": "markdown",
   "id": "dae5f8cc",
   "metadata": {},
   "source": [
    "## Ejercicio 9"
   ]
  },
  {
   "cell_type": "code",
   "execution_count": 36,
   "id": "18f9ecfb",
   "metadata": {},
   "outputs": [
    {
     "name": "stdout",
     "output_type": "stream",
     "text": [
      "Valor estadístico d: 0.26949936321059237\n",
      "Valor estimado de p-valor con uniformes: 0.1877\n",
      "Valor estimado de p-valor con exponenciales 0.0475\n",
      "En ambos casos p-valor > 0.01, con un nivel de rechazo del 1% no se rechaza H0\n"
     ]
    }
   ],
   "source": [
    "M = [1.6, 10.3, 3.5, 13.5, 18.4, 7.7, 24.3, 10.7, 8.4, 4.9, 7.9, 12, 16.2, 6.8, 14.7]\n",
    "media_muestral = sum(M)/len(M)\n",
    "estimador_lambda = 1/media_muestral\n",
    "d0 = estadistico_d(M, (lambda x: 1 - math.exp(-x*estimador_lambda)))\n",
    "\n",
    "print(\"Valor estadístico d:\", d0)\n",
    "print(\"Valor estimado de p-valor con uniformes:\", pvalor_simulado(d0, len(M)))\n",
    "\n",
    "def pvalor_exp(lamda, d0, size, Nsims=10000):\n",
    "    pvalor = 0\n",
    "    for i in range(Nsims):\n",
    "        muestra = np.random.exponential(1/lamda, size)\n",
    "        media_muestral = sum(muestra)/len(muestra)\n",
    "        lambda_estimado = 1/media_muestral\n",
    "        d_j = estadistico_d(muestra, (lambda x: 1 - math.exp(-x*lambda_estimado)))\n",
    "        if d_j > d0:\n",
    "            pvalor += 1\n",
    "    return pvalor/Nsims\n",
    "        \n",
    "print(\"Valor estimado de p-valor con exponenciales\", pvalor_exp(estimador_lambda, d0, len(M)))\n",
    "print(\"En ambos casos p-valor > 0.01, con un nivel de rechazo del 1% no se rechaza H0\")"
   ]
  },
  {
   "cell_type": "markdown",
   "id": "9a67e33b",
   "metadata": {},
   "source": [
    "## Ejercicio 10"
   ]
  },
  {
   "cell_type": "code",
   "execution_count": 46,
   "id": "0bf7ecf3",
   "metadata": {},
   "outputs": [
    {
     "name": "stdout",
     "output_type": "stream",
     "text": [
      "Estadístico d: 0.19638944697995597\n",
      "Valor estimado de p-valor con uniformes: 0.6719\n",
      "Valor estimado de p-valor con normales: 0.226\n",
      "En ambos casos p-valor > 0.05, con un nivel de rechazo del 5% no se rechaza H0\n"
     ]
    }
   ],
   "source": [
    "M = [91.9, 97.8, 111.4, 122.3, 105.4, 95.0, 103.8, 99.6, 96.6, 119.3, 104.8, 101.7]\n",
    "media_muestral = sum(M)/len(M)\n",
    "var_m = 0\n",
    "for i in M:\n",
    "    var_m += (i - media_muestral)**2\n",
    "desvio_m = math.sqrt(var_m/(len(M)-1))\n",
    "\n",
    "mu_estimado = media_muestral\n",
    "sigma_estimado = desvio_m\n",
    "d0 = estadistico_d(M, (lambda x: norm.cdf(x, mu_estimado, sigma_estimado)))\n",
    "print(\"Estadístico d:\", d0)\n",
    "print(\"Valor estimado de p-valor con uniformes:\", pvalor_simulado(d0, len(M)))\n",
    "\n",
    "def pvalor_normal(mu, sigma, d0, size, Nsims=1000):\n",
    "    pvalor = 0\n",
    "    for i in range(Nsims):\n",
    "        muestra = norm.rvs(loc=mu, scale=sigma, size=size)\n",
    "        mu_estimado = sum(muestra)/size\n",
    "        sigma_estimado = 0\n",
    "        for i in muestra:\n",
    "            sigma_estimado += (i - mu_estimado)**2\n",
    "        sigma_estimado = math.sqrt(sigma_estimado/(size-1))\n",
    "        d_j = estadistico_d(muestra, (lambda x: norm.cdf(x, mu_estimado, sigma_estimado)))\n",
    "        if d_j > d0:\n",
    "            pvalor += 1\n",
    "    return pvalor/Nsims\n",
    "\n",
    "print(\"Valor estimado de p-valor con normales:\", pvalor_normal(mu_estimado, sigma_estimado, d0, len(M)))\n",
    "print(\"En ambos casos p-valor > 0.05, con un nivel de rechazo del 5% no se rechaza H0\")"
   ]
  }
 ],
 "metadata": {
  "kernelspec": {
   "display_name": "Python 3 (ipykernel)",
   "language": "python",
   "name": "python3"
  },
  "language_info": {
   "codemirror_mode": {
    "name": "ipython",
    "version": 3
   },
   "file_extension": ".py",
   "mimetype": "text/x-python",
   "name": "python",
   "nbconvert_exporter": "python",
   "pygments_lexer": "ipython3",
   "version": "3.10.12"
  }
 },
 "nbformat": 4,
 "nbformat_minor": 5
}
