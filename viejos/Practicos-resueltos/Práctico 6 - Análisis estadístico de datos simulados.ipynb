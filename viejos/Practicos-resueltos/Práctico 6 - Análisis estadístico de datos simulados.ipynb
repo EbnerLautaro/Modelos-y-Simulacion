{
 "cells": [
  {
   "cell_type": "code",
   "execution_count": 45,
   "id": "b2a5b26f",
   "metadata": {},
   "outputs": [],
   "source": [
    "import math\n",
    "import random\n",
    "import numpy as np\n",
    "from IPython.display import display, Math"
   ]
  },
  {
   "cell_type": "markdown",
   "id": "76602a1e",
   "metadata": {},
   "source": [
    "## Ejercicio 1"
   ]
  },
  {
   "cell_type": "markdown",
   "id": "83c803ca",
   "metadata": {},
   "source": [
    "Ejercicio 1. Genere n valores de una variable aleatoria normal estándar de manera tal que se cumplan las condiciones: $n ≥ 100$ y $\\frac{S}{\\sqrt n} < 0,1$, siendo $S$ el estimador de la desviación estándar de los $n$ datos generados. <br>\n",
    "a) ¿Cuál es el número de datos generados efectivamente? <br>\n",
    "b) ¿Cuál es la media muestral de los datos generados? <br>\n",
    "c) ¿Cuál es la varianza muestral de los datos generados?\n"
   ]
  },
  {
   "cell_type": "code",
   "execution_count": 46,
   "id": "a7ea1162",
   "metadata": {},
   "outputs": [],
   "source": [
    "def ejercicio1():\n",
    "    media = np.random.normal()\n",
    "    sample = [media]\n",
    "    scuad = 0\n",
    "    n = 1\n",
    "    while n <= 100 or math.sqrt(scuad/n) >= 0.1:\n",
    "        n += 1\n",
    "        x = np.random.normal()\n",
    "        sample.append(x)\n",
    "        media_ant = media\n",
    "        media = media_ant + (x - media_ant) / n\n",
    "        scuad = scuad * (1 - 1 /(n-1)) + n*(media - media_ant)**2\n",
    "    return sample, media, scuad"
   ]
  },
  {
   "cell_type": "code",
   "execution_count": 47,
   "id": "078d3cc1",
   "metadata": {},
   "outputs": [
    {
     "name": "stdout",
     "output_type": "stream",
     "text": [
      "Número de datos generados: 101\n",
      "Media muestral de los datos generados: -0.16054137219708847\n",
      "Varianza muestral de los datos generados: 0.8534628552997818\n",
      "Muestra generada: [-0.3148463110826751, -0.21377179885907474, -0.23171628691091292, 0.5608389218910319, 0.533543570117446, 0.46547313644908667, -0.06390139140455174, -0.09899471166024379, 0.4084142723359372, 1.0717853997366336, -0.10586925395399577, -0.5258480886262236, -0.6843256883540628, -0.06304998160697241, 0.6646458617064589, -1.1963097840265209, 0.7637371269674486, 0.21301414004790448, -0.8618858621540615, -0.3697712493401122, 1.2423009023830422, 1.110317487836574, -1.7682498709806553, -0.8187527622426523, 1.159611144028929, 0.20333074446078053, 0.30288096468516296, 1.0230960175354293, 0.295768147338624, -1.583775896403656, -1.9760451409025597, 1.1453477829444407, -0.023093434733596048, -0.8801217390851709, -1.8979137920573472, 0.4806213112555344, -1.2320567613721274, -0.19665015286720125, -0.1016320953229783, 0.3755690591166156, -1.6261831586292568, -0.2894052768877573, -0.6167967419425117, -0.010924321603027547, -0.2652721461156819, 1.039839233257308, 0.44765407185465095, 0.2980873604523736, -0.953970462505747, 0.5515116672119459, -0.49879444897171255, -0.6906027538822277, 0.6582421352693525, 1.1346918362110359, -0.8257136297315958, 0.009040616542754879, 0.9188477542402294, -0.08777934476497481, -0.6915977271538714, -0.8142016678923177, -0.17813392557583746, 1.3504371734224112, -0.325421233005894, -1.3552936581964825, 1.0835114242200758, -0.5631013912214102, 0.09670580103804269, 0.3252881826077368, -0.41665108834628095, -0.8330216855687474, -1.4248413324302611, -1.5788233507690799, 1.1263466403622662, -0.741146358368095, 1.6856080658653425, 1.4990576895245626, 0.8356819702875924, -2.0024434121786276, -1.1876129091056884, -0.2135489422974251, -0.5752029623260044, -0.37615799827278057, -0.9995509017743859, -1.07902664380079, 0.7712667038111525, -0.911752808240021, -1.371664258385114, -0.7259098271951288, 0.06538216654225878, 1.1211551671909, -1.5845652211317427, 0.6770276656614082, -0.6110582401929978, -2.1896389539758614, 1.1762691549819255, -1.382760883523306, -1.6810479293454526, 0.7121439136119877, -0.15586211180027343, 0.2848515178280164, 0.9404392663173725]\n"
     ]
    }
   ],
   "source": [
    "result = ejercicio1()\n",
    "sample = result[0]\n",
    "size = len(sample)\n",
    "mean = result[1]\n",
    "var = result[2]\n",
    "print(f\"Número de datos generados: {size}\")\n",
    "print(f\"Media muestral de los datos generados: {mean}\")\n",
    "print(f\"Varianza muestral de los datos generados: {var}\")\n",
    "print(f\"Muestra generada: {sample}\")"
   ]
  },
  {
   "cell_type": "markdown",
   "id": "5b0232a2",
   "metadata": {},
   "source": [
    "## Ejercicio 2"
   ]
  },
  {
   "cell_type": "markdown",
   "id": "c34f4b00",
   "metadata": {},
   "source": [
    "Estime mediante el método de Monte Carlo la integral:\n",
    "    \n",
    "<center> $$i) \\int_{0}^1 \\frac{e^x}{\\sqrt 2x}dx, \\qquad    ii)\\int_{-\\infty}^\\infty x^2exp(-x^2)dx.$$\n",
    "   \n",
    "a) Indique cómo se obtiene mediante simulación el valor de la integral. <br>\n",
    "b) Genere al menos 100 valores y deténgase cuando la desviación estándar muestral $S$ del estimador sea menor que 0,01."
   ]
  },
  {
   "cell_type": "code",
   "execution_count": 48,
   "id": "92ce2906",
   "metadata": {},
   "outputs": [],
   "source": [
    "def integral_ab(funciong, a, b, d, Nsim):\n",
    "    media = funciong(a + (b-a) * random.random()) * (b-a)\n",
    "    n = 1\n",
    "    scuad = 0\n",
    "    while n < Nsim or math.sqrt(scuad/n) >= d:\n",
    "        n += 1\n",
    "        x = funciong(a + (b-a) * random.random()) * (b-a)\n",
    "        media_ant = media\n",
    "        media = media_ant + (x - media_ant) / n\n",
    "        scuad = scuad * (1 - 1 /(n-1)) + n*(media - media_ant)**2\n",
    "    return media\n",
    "\n",
    "def integral_0inf(funciong, d, Nsim):\n",
    "    y = random.random()\n",
    "    media = (1/pow(y, 2))*funciong(((1/y) - 1))\n",
    "    n = 1\n",
    "    scuad = 0\n",
    "    while n < Nsim or math.sqrt(scuad/n) >= d:\n",
    "        n += 1\n",
    "        y = random.random()\n",
    "        x = (1/pow(y, 2))*funciong(((1/y) - 1))\n",
    "        media_ant = media\n",
    "        media = media_ant + (x - media_ant) / n\n",
    "        scuad = scuad * (1 - 1 /(n-1)) + n*(media - media_ant)**2\n",
    "    return media\n",
    "\n",
    "def integral_ninf0(funciong, d, Nsim):\n",
    "    y = random.random()\n",
    "    media = (1/pow(y, 2))*funciong(-(1/(y)) + 1)\n",
    "    n = 1\n",
    "    scuad = 0\n",
    "    while n < Nsim or math.sqrt(scuad/n) >= d:\n",
    "        n += 1\n",
    "        y = random.random()\n",
    "        x = (1/pow(y, 2))*funciong(-(1/(y)) + 1)\n",
    "        media_ant = media\n",
    "        media = media_ant + (x - media_ant) / n\n",
    "        scuad = scuad * (1 - 1 /(n-1)) + n*(media - media_ant)**2\n",
    "    return media\n",
    "\n",
    "def IntegralMonteCarlo(funciong, a, b, d, Nsim):\n",
    "    if a != -np.inf and b != np.inf:\n",
    "        result = integral_ab(funciong, a, b, d, Nsim)\n",
    "    elif b == np.inf and a != -np.inf:\n",
    "        if a == 0:\n",
    "            result = integral_0inf(funciong, d, Nsim)\n",
    "        else:\n",
    "            result1 = IntegralMonteCarlo(funciong, 0, b, d, Nsim)\n",
    "            result2 = IntegralMonteCarlo(funciong, a, 0, d, Nsim)\n",
    "            result = result1 + result2\n",
    "    elif b != np.inf and a == -np.inf:\n",
    "        if b == 0:\n",
    "            result = integral_ninf0(funciong, d, Nsim)\n",
    "        else:\n",
    "            result1 = IntegralMonteCarlo(funciong, 0, b, d, Nsim)\n",
    "            result2 = IntegralMonteCarlo(funciong, a, 0, d, Nsim)\n",
    "            result = result1 + result2\n",
    "    elif a == -np.inf and b == np.inf:\n",
    "        result1 = IntegralMonteCarlo(funciong, 0, b, d, Nsim)\n",
    "        result2 = IntegralMonteCarlo(funciong, a, 0, d, Nsim)\n",
    "        result = result1 + result2\n",
    "    return result"
   ]
  },
  {
   "cell_type": "code",
   "execution_count": 49,
   "id": "2dc21fe9",
   "metadata": {},
   "outputs": [
    {
     "name": "stdout",
     "output_type": "stream",
     "text": [
      "Valor estimado de la integral en el ítem i, generando al menos 100 valores y deteniendose cuando la \n",
      "desviación estándar muestral del estimador es menor a 0.01: 2.063\n",
      "Valor real de la integral en el ítem i ≈ 2.0685\n"
     ]
    }
   ],
   "source": [
    "funcioni = (lambda x: math.exp(x)/math.sqrt(2*x))\n",
    "result = IntegralMonteCarlo(funcioni, 0, 1, 0.01, 100)\n",
    "print(f\"\"\"Valor estimado de la integral en el ítem i, generando al menos 100 valores y deteniendose cuando la \n",
    "desviación estándar muestral del estimador es menor a 0.01: {'%.3f'%result}\"\"\")\n",
    "print(f\"Valor real de la integral en el ítem i ≈ {2.0685}\")"
   ]
  },
  {
   "cell_type": "code",
   "execution_count": 50,
   "id": "b9eb5817",
   "metadata": {},
   "outputs": [
    {
     "name": "stdout",
     "output_type": "stream",
     "text": [
      "Valor estimado de la integral en el ítem ii, generando al menos 100 valores y deteniendose cuando la \n",
      "desviación estándar muestral del estimador es menor a 0.01: 0.896\n",
      "Valor real de la integral en el ítem i ≈ 0.886\n"
     ]
    }
   ],
   "source": [
    "funcionii = (lambda x: x**2 * math.exp(-x**2))\n",
    "result = IntegralMonteCarlo(funcionii, -np.inf, np.inf, 0.01, 100)\n",
    "print(f\"\"\"Valor estimado de la integral en el ítem ii, generando al menos 100 valores y deteniendose cuando la \n",
    "desviación estándar muestral del estimador es menor a 0.01: {'%.3f'%result}\"\"\")\n",
    "print(f\"Valor real de la integral en el ítem i ≈ {0.886}\")"
   ]
  },
  {
   "cell_type": "markdown",
   "id": "9734ca85",
   "metadata": {},
   "source": [
    "## Ejercicio 3"
   ]
  },
  {
   "cell_type": "markdown",
   "id": "f1ba758d",
   "metadata": {},
   "source": [
    "Calcule mediante un método de Monte Carlo las siguientes integrales:<br>\n",
    "\n",
    "<center> $$i) \\int_{\\pi}^{2\\pi} \\left(\\frac{sin(x)}{x}\\right) dx, \\qquad ii) \\int_{0}^{\\infty} \\frac{3}{3+x^4}dx$$\n",
    "    \n",
    "a) Obtenga mediante simulación en computadora el valor de la integral deteniendo la simulación cuando el semi-ancho del intervalo de confianza del 95% sea justo inferior a 0,001. <br>\n",
    "b) Indique cuál es el número de simulaciones Ns necesarias en la simulación realizada para lograr la\n",
    "condición pedida y complete con los valores obtenidos la tabla."
   ]
  },
  {
   "cell_type": "code",
   "execution_count": 51,
   "id": "2d9825fe",
   "metadata": {},
   "outputs": [],
   "source": [
    "def integral_ab_intervalo(funciong, a, b, z_alfa_2, l, Nsim): #z_alfa_2 = z_(alfa/2)\n",
    "    'Confianza = (1 - alfa)%, amplitud del intervalo: L'\n",
    "    d = l / (2 * z_alfa_2)\n",
    "    media = funciong(a + (b-a) * random.random()) * (b-a)\n",
    "    n = 1\n",
    "    scuad = 0\n",
    "    while n < Nsim or math.sqrt(scuad/n) >= d:\n",
    "        n += 1\n",
    "        x = funciong(a + (b-a) * random.random()) * (b-a)\n",
    "        media_ant = media\n",
    "        media = media_ant + (x - media_ant) / n\n",
    "        scuad = scuad * (1 - 1 /(n-1)) + n*(media - media_ant)**2\n",
    "    return (n, media, math.sqrt(scuad), (media - z_alfa_2 * math.sqrt(scuad/n), media + z_alfa_2 * math.sqrt(scuad/n)))\n",
    "\n",
    "def integral_0inf_intervalo(funciong, z_alfa_2, l, Nsim): #z_alfa_2 = z_(alfa/2)\n",
    "    'Confianza = (1 - alfa)%, amplitud del intervalo: L'\n",
    "    d = l / (2 * z_alfa_2)\n",
    "    y = random.random()\n",
    "    media = (1/pow(y, 2))*funciong(((1/y) - 1))\n",
    "    n = 1\n",
    "    scuad = 0\n",
    "    while n < Nsim or math.sqrt(scuad/n) >= d:\n",
    "        n += 1\n",
    "        y = random.random()\n",
    "        x = (1/pow(y, 2))*funciong(((1/y) - 1))\n",
    "        media_ant = media\n",
    "        media = media_ant + (x - media_ant) / n\n",
    "        scuad = scuad * (1 - 1 /(n-1)) + n*(media - media_ant)**2\n",
    "    return (n, media, math.sqrt(scuad), (media - z_alfa_2 * math.sqrt(scuad/n), media + z_alfa_2 * math.sqrt(scuad/n)))\n",
    "\n",
    "def integral_ninf0_intervalo(funciong, z_alfa_2, l, Nsim): #z_alfa_2 = z_(alfa/2)\n",
    "    'Confianza = (1 - alfa)%, amplitud del intervalo: L'\n",
    "    d = l / (2 * z_alfa_2)\n",
    "    y = random.random()\n",
    "    media = (1/pow(y, 2))*funciong(-(1/(y)) + 1)\n",
    "    n = 1\n",
    "    scuad = 0\n",
    "    while n < Nsim or math.sqrt(scuad/n) >= d:\n",
    "        n += 1\n",
    "        y = random.random()\n",
    "        x = (1/pow(y, 2))*funciong(-(1/(y)) + 1)\n",
    "        media_ant = media\n",
    "        media = media_ant + (x - media_ant) / n\n",
    "        scuad = scuad * (1 - 1 /(n-1)) + n*(media - media_ant)**2\n",
    "    return (n, media, math.sqrt(scuad), (media - z_alfa_2 * math.sqrt(scuad/n), media + z_alfa_2 * math.sqrt(scuad/n)))\n",
    "\n",
    "def IntegralMonteCarlo_intervalo(funciong, a, b, z_alfa_2, l, Nsim): #z_alfa_2 = z_(alfa/2)\n",
    "    'Confianza = (1 - alfa)%, amplitud del intervalo: L'\n",
    "    if a != -np.inf and b != np.inf:\n",
    "        result = integral_ab_intervalo(funciong, a, b, z_alfa_2, l, Nsim)\n",
    "    elif b == np.inf and a != -np.inf:\n",
    "        if a == 0:\n",
    "            result = integral_0inf_intervalo(funciong, z_alfa_2, l, Nsim)\n",
    "        else:\n",
    "            result1 = IntegralMonteCarlo_intervalo(funciong, 0, b, z_alfa_2, l, Nsim)\n",
    "            result2 = IntegralMonteCarlo_intervalo(funciong, a, 0, z_alfa_2, l, Nsim)\n",
    "            result = (result1, result2)\n",
    "    elif b != np.inf and a == -np.inf:\n",
    "        if b == 0:\n",
    "            result = integral_ninf0(z_alfa_2, l, Nsim)\n",
    "        else:\n",
    "            result1 = IntegralMonteCarlo_intervalo(funciong, 0, b, z_alfa_2, l, Nsim)\n",
    "            result2 = IntegralMonteCarlo_intervalo(funciong, a, 0, z_alfa_2, l, Nsim)\n",
    "            result = (result1, result2)\n",
    "    elif a == -np.inf and b == np.inf:\n",
    "        result1 = IntegralMonteCarlo_intervalo(funciong, 0, b, z_alfa_2, l, Nsim)\n",
    "        result2 = IntegralMonteCarlo_intervalo(funciong, a, 0, z_alfa_2, l, Nsim)\n",
    "        result = (result1, result2)\n",
    "    return result"
   ]
  },
  {
   "cell_type": "markdown",
   "id": "be34110a",
   "metadata": {},
   "source": [
    "$$i) \\int_{\\pi}^{2\\pi} \\left(\\frac{sin(x)}{x}\\right) dx$$"
   ]
  },
  {
   "cell_type": "code",
   "execution_count": 52,
   "id": "9d91db02",
   "metadata": {},
   "outputs": [
    {
     "name": "stdout",
     "output_type": "stream",
     "text": [
      "Cantidad de simulaciones necesarias: 169802\n",
      "Valor estimado de la integral en el item i (media): -0.4339\n",
      "Valor real de la integral en el ítem i ≈ -0.4337\n",
      "Desvío estándar muestral: 0.2102\n",
      "Intervalo de confianza del 95%: (-0.4349, -0.4329)\n"
     ]
    }
   ],
   "source": [
    "result = IntegralMonteCarlo_intervalo((lambda x: (math.sin(x)/x)), math.pi, 2*math.pi, 1.96, 0.002, 1000)\n",
    "n = result[0]\n",
    "media = result[1]\n",
    "desvio = result[2]\n",
    "intervalo = tuple(round(value, 4) for value in result[3])\n",
    "\n",
    "print(f\"Cantidad de simulaciones necesarias: {n}\")\n",
    "print(f\"Valor estimado de la integral en el item i (media): {'%.4f'%media}\")\n",
    "print(f\"Valor real de la integral en el ítem i ≈ {-0.4337}\")\n",
    "print(f\"Desvío estándar muestral: {round(desvio, 4)}\")\n",
    "print(f\"Intervalo de confianza del 95%: {intervalo}\")"
   ]
  },
  {
   "cell_type": "code",
   "execution_count": 53,
   "id": "09bfe83a",
   "metadata": {},
   "outputs": [
    {
     "name": "stdout",
     "output_type": "stream",
     "text": [
      "(1000, -0.4344429086105637, 0.20917468917871634, (-0.4474076901651491, -0.42147812705597837))\n",
      "(5000, -0.43477419703494874, 0.20781148070715988, (-0.4405344373978336, -0.4290139566720639))\n",
      "(7000, -0.43378992091830776, 0.21044116453354553, (-0.4387198168067777, -0.42886002502983783))\n"
     ]
    }
   ],
   "source": [
    "print(IntegralMonteCarlo_intervalo((lambda x: (math.sin(x)/x)), math.pi, 2*math.pi, 1.96, 2*1.96, 1000))\n",
    "print(IntegralMonteCarlo_intervalo((lambda x: (math.sin(x)/x)), math.pi, 2*math.pi, 1.96, 2*1.96, 5000))\n",
    "print(IntegralMonteCarlo_intervalo((lambda x: (math.sin(x)/x)), math.pi, 2*math.pi, 1.96, 2*1.96, 7000))"
   ]
  },
  {
   "cell_type": "markdown",
   "id": "71c61eaa",
   "metadata": {},
   "source": [
    "$$ ii) \\int_{0}^{\\infty} \\frac{3}{3+x^4}dx$$"
   ]
  },
  {
   "cell_type": "code",
   "execution_count": 54,
   "id": "b8580833",
   "metadata": {},
   "outputs": [
    {
     "name": "stdout",
     "output_type": "stream",
     "text": [
      "Cantidad de simulaciones necesarias: 3661758\n",
      "Valor estimado de la integral en el item i (media): 1.4622\n",
      "Valor real de la integral en el ítem i ≈ 1.4618\n",
      "Desvío estándar muestral: 0.9763\n",
      "Intervalo de confianza del 95%: (1.4612, 1.4632)\n"
     ]
    }
   ],
   "source": [
    "result = IntegralMonteCarlo_intervalo((lambda x: 3/(3+x**4)), 0, np.inf, 1.96, 0.002, 1000)\n",
    "n = result[0]\n",
    "media = result[1]\n",
    "desvio = result[2]\n",
    "intervalo = tuple(round(value, 4) for value in result[3])\n",
    "\n",
    "print(f\"Cantidad de simulaciones necesarias: {n}\")\n",
    "print(f\"Valor estimado de la integral en el item i (media): {'%.4f'%media}\")\n",
    "print(f\"Valor real de la integral en el ítem i ≈ {1.4618}\")\n",
    "print(f\"Desvío estándar muestral: {round(desvio, 4)}\")\n",
    "print(f\"Intervalo de confianza del 95%: {intervalo}\")"
   ]
  },
  {
   "cell_type": "code",
   "execution_count": 55,
   "id": "ad7ea170",
   "metadata": {},
   "outputs": [
    {
     "name": "stdout",
     "output_type": "stream",
     "text": [
      "(1000, 1.5070593531223666, 0.9917632155953117, (1.445589232169632, 1.5685294740751012))\n",
      "(5000, 1.4673490567948615, 0.9715031540469826, (1.4404203632425685, 1.4942777503471545))\n",
      "(7000, 1.4478851033201923, 0.9748683158227271, (1.425047369492655, 1.4707228371477294))\n"
     ]
    }
   ],
   "source": [
    "print(IntegralMonteCarlo_intervalo((lambda x: 3/(3+x**4)), 0, np.inf, 1.96, 2*1.96, 1000))\n",
    "print(IntegralMonteCarlo_intervalo((lambda x: 3/(3+x**4)), 0, np.inf, 1.96, 2*1.96, 5000))\n",
    "print(IntegralMonteCarlo_intervalo((lambda x: 3/(3+x**4)), 0, np.inf, 1.96, 2*1.96, 7000))"
   ]
  },
  {
   "cell_type": "markdown",
   "id": "e218e03e",
   "metadata": {},
   "source": [
    "## Ejercicio 4"
   ]
  },
  {
   "cell_type": "code",
   "execution_count": 56,
   "id": "1cb92428",
   "metadata": {},
   "outputs": [],
   "source": [
    "def N():\n",
    "    n = 0\n",
    "    sum_t = 0\n",
    "    while sum_t <= 1:\n",
    "        sum_t += random.random()\n",
    "        n += 1\n",
    "    return n\n",
    "\n",
    "def sample_n(Nsim=1000):\n",
    "    mean = N()\n",
    "    scuad = 0\n",
    "    for n in range(2, Nsim):\n",
    "        m = N()\n",
    "        media_ant = mean\n",
    "        mean = media_ant + (m - media_ant)/n\n",
    "        scuad = scuad * (1 - 1/(n-1)) + n * (mean - media_ant)**2\n",
    "    return mean, scuad\n",
    "\n",
    "def sample_n_intervalo(l, z_alfa_2, Nsim=1000):\n",
    "    d = l / (2 * z_alfa_2)\n",
    "    mean = N()\n",
    "    scuad = 0\n",
    "    n = 1\n",
    "    while n <= Nsim or math.sqrt(scuad/n) > d:\n",
    "        n += 1\n",
    "        m = N()\n",
    "        media_ant = mean\n",
    "        mean = media_ant + (m - media_ant)/n\n",
    "        scuad = scuad * (1 - 1/(n-1)) + n * (mean - media_ant)**2\n",
    "    return n, mean, scuad, (mean-z_alfa_2*math.sqrt(scuad/n), mean+z_alfa_2*math.sqrt(scuad/n))\n",
    "\n",
    "def simulacion_varianza(Nsim=1000):\n",
    "    suma = 0\n",
    "    for n in range(1, Nsim+1):\n",
    "        e_aprox = sample_n()[0]\n",
    "        suma += (3 * e_aprox - e_aprox**2)/Nsim\n",
    "    return suma/Nsim"
   ]
  },
  {
   "cell_type": "code",
   "execution_count": 57,
   "id": "2893e11a",
   "metadata": {},
   "outputs": [
    {
     "name": "stdout",
     "output_type": "stream",
     "text": [
      "Valor estimado de Var(N_barra) con 1000 simulaciones: 0.000763\n",
      "Valor real de Var(N_barra) con n=1000:   0.000766\n",
      "Varianza muestral con 1000 simulaciones:   0.700334\n",
      "Intervalo de confianza del 95%: (2.6963, 2.7213)\n",
      "Cantidad de simulaciones necesarias para que el IC tenga longitud de a lo sumo 0.025: 18410\n"
     ]
    }
   ],
   "source": [
    "intervalo = sample_n_intervalo(0.025, 1.96, Nsim=1000)\n",
    "varianza = round((3*math.exp(1) - math.exp(1)**2)/1000, 6)\n",
    "mean = sample_n()[0]\n",
    "var = sample_n()[1] \n",
    "\n",
    "print(f\"Valor estimado de Var(N_barra) con 1000 simulaciones: {round(simulacion_varianza(), 6)}\")\n",
    "print(f\"Valor real de Var(N_barra) con n=1000:   {varianza}\")\n",
    "print(f\"Varianza muestral con 1000 simulaciones:   {round(var, 6)}\")\n",
    "print(f\"Intervalo de confianza del 95%: {tuple(round(value, 4) for value in intervalo[3])}\")\n",
    "print(f\"Cantidad de simulaciones necesarias para que el IC tenga longitud de a lo sumo 0.025: {intervalo[0]}\")"
   ]
  },
  {
   "cell_type": "markdown",
   "id": "5325ece1",
   "metadata": {},
   "source": [
    "## Ejercicio 5"
   ]
  },
  {
   "cell_type": "code",
   "execution_count": 84,
   "id": "b1d4d7bb",
   "metadata": {},
   "outputs": [
    {
     "name": "stdout",
     "output_type": "stream",
     "text": [
      "Estimación de e deteniendonos cuando la varianza del estimador es menor a 0.01: 2.7738095238095237\n",
      "Varianza del estimador: 0.009854042018413799\n",
      "Iteraciones necesarias: 84\n",
      "Valor real de e: 2.718281828459045\n"
     ]
    }
   ],
   "source": [
    "def M():\n",
    "    predecesor = random.random()\n",
    "    sucesor = random.random()\n",
    "    n = 2\n",
    "    while sucesor >= predecesor:\n",
    "        predecesor = sucesor\n",
    "        sucesor = random.random()\n",
    "        n += 1\n",
    "    return n\n",
    "\n",
    "def estimador_e(d=0.01, nsim=10):\n",
    "    media = M()\n",
    "    scuad = 0\n",
    "    n = 1\n",
    "    while n <= nsim or scuad/n >= d:\n",
    "        n += 1\n",
    "        x = M()\n",
    "        media_ant = media\n",
    "        media = media_ant + (x - media_ant) / n\n",
    "        scuad = scuad * (1 - 1 /(n-1)) + n*(media - media_ant)**2\n",
    "    return n, media, scuad\n",
    "\n",
    "result = estimador_e()\n",
    "\n",
    "print(f\"Estimación de e deteniendonos cuando la varianza del estimador es menor a 0.01: {result[1]}\")\n",
    "print(f\"Varianza del estimador: {result[2]/result[0]}\")\n",
    "print(f\"Iteraciones necesarias: {result[0]}\")\n",
    "print(f\"Valor real de e: {math.exp(1)}\")"
   ]
  },
  {
   "cell_type": "code",
   "execution_count": 62,
   "id": "e8556813",
   "metadata": {},
   "outputs": [
    {
     "name": "stdout",
     "output_type": "stream",
     "text": [
      "Cantidad de simulaciones necesarias: 1108\n",
      "Valor estimado de e (media): 2.7319\n",
      "Valor real de e ≈ 2.7183\n",
      "Intervalo de confianza del 95%: (2.682, 2.7819)\n"
     ]
    }
   ],
   "source": [
    "def estimador_e_intervalo(l, z_alfa_2, Nsim=100):\n",
    "    d = l / (2 * z_alfa_2)\n",
    "    mean = N()\n",
    "    scuad = 0\n",
    "    n = 1\n",
    "    while n <= Nsim or math.sqrt(scuad/n) > d:\n",
    "        n += 1\n",
    "        m = N()\n",
    "        media_ant = mean\n",
    "        mean = media_ant + (m - media_ant)/n\n",
    "        scuad = scuad * (1 - 1/(n-1)) + n * (mean - media_ant)**2\n",
    "    return n, mean, scuad, (mean-z_alfa_2*math.sqrt(scuad/n), mean+z_alfa_2*math.sqrt(scuad/n))\n",
    "\n",
    "result = estimador_e_intervalo(0.1, 1.96)\n",
    "\n",
    "print(f\"Cantidad de simulaciones necesarias: {result[0]}\")\n",
    "print(f\"Valor estimado de e (media): {round(result[1], 4)}\")\n",
    "print(f\"Valor real de e ≈ {round(math.exp(1), 4)}\")\n",
    "print(f\"Intervalo de confianza del 95%: {(round(result[3][0], 4), round(result[3][1], 4))}\")"
   ]
  },
  {
   "cell_type": "markdown",
   "id": "a7c8c7ec",
   "metadata": {},
   "source": [
    "## Ejercicio 6"
   ]
  },
  {
   "cell_type": "code",
   "execution_count": 824,
   "id": "cee1a0bc",
   "metadata": {},
   "outputs": [
    {
     "name": "stdout",
     "output_type": "stream",
     "text": [
      "Proporción de puntos que caen dentro del círculo: 0.7854179016004725\n"
     ]
    }
   ],
   "source": [
    "def bernoulli_circulo(radio):\n",
    "    x = random.uniform(-1, 1)\n",
    "    y = random.uniform(-1, 1)\n",
    "    return math.sqrt(x**2+y**2) <= radio\n",
    "\n",
    "def estimador_proporcion(radio, d):\n",
    "    p = 0\n",
    "    n = 0\n",
    "    while n <= 100 or math.sqrt(p * (1-p) / n) > d:\n",
    "        n += 1\n",
    "        x = bernoulli_circulo(radio)\n",
    "        p = p + (x - p) / n\n",
    "    return p\n",
    "\n",
    "print(f\"Proporción de puntos que caen dentro del círculo: {estimador_proporcion(1, 0.01)}\")"
   ]
  },
  {
   "cell_type": "code",
   "execution_count": 835,
   "id": "bea6a1a6",
   "metadata": {},
   "outputs": [],
   "source": [
    "def estimador_intervalo(radio, z_alfa_2, l, Nsim=100):\n",
    "    d = l / (2 * z_alfa_2)\n",
    "    mean = bernoulli_circulo(radio)\n",
    "    scuad = 0\n",
    "    n = 1\n",
    "    while n <= Nsim or math.sqrt(scuad/n) > d:\n",
    "        n += 1\n",
    "        m = 4 * bernoulli_circulo(radio)\n",
    "        media_ant = mean\n",
    "        mean = media_ant + (m - media_ant)/n\n",
    "        scuad = scuad * (1 - 1/(n-1)) + n * (mean - media_ant)**2\n",
    "    return n, mean, scuad/n, (mean-z_alfa_2*math.sqrt(scuad/n), mean+z_alfa_2*math.sqrt(scuad/n))"
   ]
  },
  {
   "cell_type": "code",
   "execution_count": 903,
   "id": "dd642d5c",
   "metadata": {},
   "outputs": [
    {
     "name": "stdout",
     "output_type": "stream",
     "text": [
      "Cantidad de simulaciones necesarias: 4078\n",
      "Valor estimado de 𝜋 (media): 3.1606\n",
      "Valor real de 𝜋 ≈ 3.1416\n",
      "Intervalo de confianza del 95%: (3.1106, 3.2106)\n"
     ]
    }
   ],
   "source": [
    "result = estimador_intervalo(1, 1.96, 0.1)\n",
    "\n",
    "print(f\"Cantidad de simulaciones necesarias: {result[0]}\")\n",
    "print(f\"Valor estimado de 𝜋 (media): {round(result[1], 4)}\")\n",
    "print(f\"Valor real de 𝜋 ≈ {round(math.pi, 4)}\")\n",
    "print(f\"Intervalo de confianza del 95%: {(round(result[3][0], 4), round(result[3][1], 4))}\")"
   ]
  }
 ],
 "metadata": {
  "kernelspec": {
   "display_name": "Python 3 (ipykernel)",
   "language": "python",
   "name": "python3"
  },
  "language_info": {
   "codemirror_mode": {
    "name": "ipython",
    "version": 3
   },
   "file_extension": ".py",
   "mimetype": "text/x-python",
   "name": "python",
   "nbconvert_exporter": "python",
   "pygments_lexer": "ipython3",
   "version": "3.9.13"
  }
 },
 "nbformat": 4,
 "nbformat_minor": 5
}
